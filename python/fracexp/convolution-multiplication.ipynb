{
 "cells": [
  {
   "cell_type": "markdown",
   "metadata": {},
   "source": [
    "# repeat convolution and multiplication\n",
    "\n",
    "- Have a probability distribution as a prior\n",
    "- Have a Gaussian distribution as a noise\n",
    "- Convolution\n",
    "- Multiplication (and normalization)\n",
    "- Repeat\n"
   ]
  },
  {
   "cell_type": "code",
   "execution_count": 1,
   "metadata": {},
   "outputs": [],
   "source": [
    "import random\n",
    "import math\n",
    "import matplotlib.pyplot as plt\n",
    "import statistics\n",
    "import numpy as np"
   ]
  },
  {
   "cell_type": "markdown",
   "metadata": {},
   "source": [
    "## make one distribution"
   ]
  },
  {
   "cell_type": "code",
   "execution_count": 2,
   "metadata": {},
   "outputs": [
    {
     "name": "stdout",
     "output_type": "stream",
     "text": [
      "N: 1000\n",
      "sum: 0.9999994265729685\n"
     ]
    },
    {
     "data": {
      "image/png": "[encoded data removed]",
      "text/plain": [
       "<matplotlib.figure.Figure at 0x7fe6be276fd0>"
      ]
     },
     "metadata": {},
     "output_type": "display_data"
    },
    {
     "name": "stdout",
     "output_type": "stream",
     "text": [
      "max at 50.0\n"
     ]
    }
   ],
   "source": [
    "x_max = 100\n",
    "x_min = 0\n",
    "dlt = 0.1\n",
    "N = int((x_max-x_min)/dlt)\n",
    "print('N: ' + str(N))\n",
    "x_axis = [x_min + i * dlt for i in range(N)]\n",
    "\n",
    "def p(x, mean, sigma):\n",
    "    return math.exp(-0.5*(x - mean)**2 / sigma / sigma) / math.sqrt(2*math.pi*sigma*sigma)\n",
    "\n",
    "\n",
    "dist = [p(x, 50, 10) for x in x_axis]\n",
    "print('sum: ' + str(sum(dist)*dlt))\n",
    "\n",
    "plt.scatter(x_axis, dist)\n",
    "plt.xlim(x_min, x_max)\n",
    "plt.show()\n",
    "print(\"max at \" + str(np.argmax(dist)*dlt))\n"
   ]
  },
  {
   "cell_type": "markdown",
   "metadata": {},
   "source": [
    "# repeated interactions"
   ]
  },
  {
   "cell_type": "code",
   "execution_count": 3,
   "metadata": {},
   "outputs": [],
   "source": [
    "n_interactions = 100"
   ]
  },
  {
   "cell_type": "markdown",
   "metadata": {},
   "source": [
    "# noises"
   ]
  },
  {
   "cell_type": "code",
   "execution_count": 4,
   "metadata": {},
   "outputs": [
    {
     "data": {
      "image/png": "[encoded data removed]",
      "text/plain": [
       "<matplotlib.figure.Figure at 0x7fe6be276198>"
      ]
     },
     "metadata": {},
     "output_type": "display_data"
    },
    {
     "name": "stdout",
     "output_type": "stream",
     "text": [
      "1.000000000000001\n"
     ]
    }
   ],
   "source": [
    "noise_sigma = 3\n",
    "noise_mean = (x_min+x_max)/2.0\n",
    "p_noise = [p(x, noise_mean, noise_sigma) for x in x_axis]\n",
    "noise_mean_indx = len(p_noise)//2\n",
    "plt.scatter(x_axis, p_noise)\n",
    "plt.xlim(x_min, x_max)\n",
    "plt.show()\n",
    "print(sum(p_noise)*dlt)\n",
    "\n"
   ]
  },
  {
   "cell_type": "markdown",
   "metadata": {},
   "source": [
    "# Convolution"
   ]
  },
  {
   "cell_type": "code",
   "execution_count": 5,
   "metadata": {},
   "outputs": [],
   "source": [
    "def conv(p1, p2, position):\n",
    "    ans = [0] * len(p1)\n",
    "    for i in range(len(p1)):\n",
    "        for j in range(len(p2)):\n",
    "            k = j - i + position\n",
    "            if 0 <= k and k < len(p2):\n",
    "                ans[i] += p1[j] * p2[k]\n",
    "    total = sum(ans)*dlt\n",
    "    for i in range(len(ans)):\n",
    "        ans[i] /= total\n",
    "    return ans"
   ]
  },
  {
   "cell_type": "markdown",
   "metadata": {},
   "source": [
    "# Multiplication"
   ]
  },
  {
   "cell_type": "code",
   "execution_count": 6,
   "metadata": {},
   "outputs": [],
   "source": [
    "def combine(p1, p2, off = 0):\n",
    "    ans = []\n",
    "    for i in range(len(p1)):\n",
    "        if i + off < 0:\n",
    "            ans.append(p1[i]*p2[0])\n",
    "        elif len(p2) <= i + off:\n",
    "            ans.append(p1[i]*p2[-1])\n",
    "        else:\n",
    "            ans.append(p1[i]*p2[i+off])\n",
    "\n",
    "    total = sum(ans)*dlt\n",
    "    for i in range(len(ans)):\n",
    "        ans[i] /= total\n",
    "    return ans\n"
   ]
  },
  {
   "cell_type": "markdown",
   "metadata": {},
   "source": [
    "# naive with noises"
   ]
  },
  {
   "cell_type": "code",
   "execution_count": 8,
   "metadata": {
    "scrolled": false
   },
   "outputs": [
    {
     "name": "stdout",
     "output_type": "stream",
     "text": [
      "noise mean: 50.0\n",
      "noise sigma: 3\n",
      "0 iterations done, noise: 50.846350817322694\n",
      "10 iterations done, noise: 49.820107734613536\n",
      "20 iterations done, noise: 52.25856251616113\n",
      "30 iterations done, noise: 48.25309743418737\n",
      "40 iterations done, noise: 48.293213814298866\n",
      "50 iterations done, noise: 44.01699776785272\n",
      "60 iterations done, noise: 52.0037142448082\n",
      "70 iterations done, noise: 51.5683840086785\n",
      "80 iterations done, noise: 50.170285565922114\n",
      "90 iterations done, noise: 46.12794951651273\n",
      "1.0\n"
     ]
    },
    {
     "data": {
      "image/png": "[encoded data removed]",
      "text/plain": [
       "<matplotlib.figure.Figure at 0x7fe6bc16b908>"
      ]
     },
     "metadata": {},
     "output_type": "display_data"
    },
    {
     "name": "stdout",
     "output_type": "stream",
     "text": [
      "max at 50.0\n"
     ]
    }
   ],
   "source": [
    "p = list(dist)\n",
    "\n",
    "print('noise mean: ' + str(noise_mean))\n",
    "print('noise sigma: ' + str(noise_sigma))\n",
    "for i in range(n_interactions):\n",
    "    p_temp = conv(p, p_noise, noise_mean_indx)\n",
    "    noise = random.gauss(noise_mean, noise_sigma)\n",
    "    p = combine(p, p_temp, 0)# int((noise-noise_mean)/dlt+0.5))\n",
    "    \n",
    "    if i % 10 == 0:\n",
    "        print(str(i) + ' iterations done, noise: ' + str(noise))\n",
    "\n",
    "print(sum(p)*dlt)\n",
    "\n",
    "plt.scatter(x_axis, p)\n",
    "plt.xlim(x_min, x_max)\n",
    "plt.show()\n",
    "print(\"max at \" + str(np.argmax(p)*dlt))\n"
   ]
  }
 ],
 "metadata": {
  "kernelspec": {
   "display_name": "Python 3",
   "language": "python",
   "name": "python3"
  },
  "language_info": {
   "codemirror_mode": {
    "name": "ipython",
    "version": 3
   },
   "file_extension": ".py",
   "mimetype": "text/x-python",
   "name": "python",
   "nbconvert_exporter": "python",
   "pygments_lexer": "ipython3",
   "version": "3.6.9"
  }
 },
 "nbformat": 4,
 "nbformat_minor": 2
}
