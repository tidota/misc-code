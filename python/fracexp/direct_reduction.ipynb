{
 "cells": [
  {
   "cell_type": "markdown",
   "metadata": {},
   "source": [
    "# Experiment of fractional exponent to particle filter\n",
    "\n",
    "1. generate some samples\n",
    "1. estimate the distribution (discrete)\n",
    "1. generate reduced distributions by different processes\n",
    "    1. proc1\n",
    "        1. directly apply the fractional exponent to the estimated dist with normalization\n",
    "    1. proc2\n",
    "        1. calculate weights (proposed method!)\n",
    "        1. resampling\n",
    "        1. estimate the distribution based on the resampled ones\n",
    "1. compare the two distributions\n"
   ]
  },
  {
   "cell_type": "code",
   "execution_count": 1,
   "metadata": {},
   "outputs": [],
   "source": [
    "import random\n",
    "import math\n",
    "import matplotlib.pyplot as plt\n",
    "import statistics"
   ]
  },
  {
   "cell_type": "code",
   "execution_count": 2,
   "metadata": {},
   "outputs": [],
   "source": [
    "f_optimize_sigma = False\n",
    "sigma_def = 15"
   ]
  },
  {
   "cell_type": "markdown",
   "metadata": {},
   "source": [
    "# generate some samples"
   ]
  },
  {
   "cell_type": "code",
   "execution_count": 3,
   "metadata": {},
   "outputs": [
    {
     "name": "stdout",
     "output_type": "stream",
     "text": [
      "max: 99.97569330997018\n",
      "min: 0.11711760061712262\n"
     ]
    }
   ],
   "source": [
    "rng = [0, 100]\n",
    "dlt = 0.05\n",
    "n_samples = 300\n",
    "samples = []\n",
    "for i in range(n_samples):\n",
    "    #samples.append(random.uniform(rng[0] + (rng[1]-rng[0])*0.1, rng[1] - (rng[1]-rng[0])*0.1))\n",
    "    if i % 5 == 0:\n",
    "        samples.append(rng[0] + (rng[1]-rng[0])*0.5)\n",
    "    else:\n",
    "        samples.append(random.uniform(rng[0], rng[1]))\n",
    "    #samples.append(random.uniform(rng[0], rng[1]))\n",
    "    #samples.append(random.gauss((rng[0]+rng[1])/2.0, (rng[1]-rng[0])/2.0 * 0.1))\n",
    "print(\"max: \" + str(max(samples)))\n",
    "print(\"min: \" + str(min(samples)))"
   ]
  },
  {
   "cell_type": "markdown",
   "metadata": {},
   "source": [
    "# estimate the distribution (discrete)"
   ]
  },
  {
   "cell_type": "code",
   "execution_count": 4,
   "metadata": {},
   "outputs": [],
   "source": [
    "sigma_opt = lambda s: statistics.variance(s) * math.pow(4.0/3.0/len(s), 1.0/5.0)\n",
    "k = lambda x1, x2, sigma=5: math.exp(-(x1 - x2)**2/sigma/sigma)\n",
    "x = rng[0]\n",
    "N = int((rng[1]-rng[0])/dlt+1)\n",
    "x_axis = [rng[0] + i * dlt for i in range(N)]\n",
    "\n",
    "def estPDF(samples):\n",
    "    x = rng[0]\n",
    "    p = [0] * N\n",
    "    sigma = sigma_opt(samples) if f_optimize_sigma else sigma_def\n",
    "    for i in range(N):\n",
    "        x = rng[0] + i * dlt\n",
    "        for s in samples:\n",
    "            p[i] += k(x, s, sigma)\n",
    "    sum_p = sum(p) * dlt\n",
    "    for i in range(len(p)):\n",
    "        p[i] /= sum_p\n",
    "    return p\n",
    "def showPDF(p, title, ylim=None):\n",
    "    plt.scatter(x_axis, p)\n",
    "    plt.ylabel(title)\n",
    "    if ylim != None:\n",
    "        plt.ylim(0, ylim)\n",
    "    plt.show()\n",
    "    print('sum: ' + str(sum(p)*dlt))"
   ]
  },
  {
   "cell_type": "code",
   "execution_count": 5,
   "metadata": {},
   "outputs": [],
   "source": [
    "p = estPDF(samples)"
   ]
  },
  {
   "cell_type": "code",
   "execution_count": 6,
   "metadata": {},
   "outputs": [
    {
     "data": {
      "image/png": "[encoded data removed]",
      "text/plain": [
       "<matplotlib.figure.Figure at 0x7f2e143a4278>"
      ]
     },
     "metadata": {},
     "output_type": "display_data"
    },
    {
     "name": "stdout",
     "output_type": "stream",
     "text": [
      "sum: 0.9999999999999976\n"
     ]
    }
   ],
   "source": [
    "showPDF(p, 'estimated distribution 1', 0.05)"
   ]
  },
  {
   "cell_type": "markdown",
   "metadata": {},
   "source": [
    "# generate reduced distributions by different processes"
   ]
  },
  {
   "cell_type": "code",
   "execution_count": 7,
   "metadata": {},
   "outputs": [],
   "source": [
    "omega = 0.1"
   ]
  },
  {
   "cell_type": "markdown",
   "metadata": {},
   "source": [
    "# proc1\n",
    "1. directly apply the fractional exponent to the estimated dist with normalization"
   ]
  },
  {
   "cell_type": "code",
   "execution_count": 8,
   "metadata": {},
   "outputs": [
    {
     "data": {
      "image/png": "[encoded data removed]",
      "text/plain": [
       "<matplotlib.figure.Figure at 0x7f2e143a4da0>"
      ]
     },
     "metadata": {},
     "output_type": "display_data"
    },
    {
     "name": "stdout",
     "output_type": "stream",
     "text": [
      "sum: 0.999999999999999\n"
     ]
    }
   ],
   "source": [
    "p1 = [0] * len(p)\n",
    "sum_p1 = 0\n",
    "for i in range(len(p)):\n",
    "    p1[i] = math.pow(p[i], omega)\n",
    "sum_p1 = sum(p1) * dlt\n",
    "for i in range(len(p1)):\n",
    "    p1[i] /= sum_p1\n",
    "showPDF(p1, 'p1', 0.05)"
   ]
  },
  {
   "cell_type": "markdown",
   "metadata": {},
   "source": [
    "# proc2\n",
    "1. calculate weights (proposed method!)\n",
    "1. resampling\n",
    "1. estimate the distribution based on the resampled ones"
   ]
  },
  {
   "cell_type": "code",
   "execution_count": 9,
   "metadata": {},
   "outputs": [
    {
     "data": {
      "image/png": "[encoded data removed]",
      "text/plain": [
       "<matplotlib.figure.Figure at 0x7f2e143b7f98>"
      ]
     },
     "metadata": {},
     "output_type": "display_data"
    }
   ],
   "source": [
    "weights = [0] * n_samples\n",
    "sigma = sigma_opt(samples) if f_optimize_sigma else sigma_def\n",
    "for i in range(n_samples):\n",
    "    for j in range(n_samples):\n",
    "        weights[i] += k(samples[i], samples[j], sigma)\n",
    "    weights[i] = math.pow(weights[i], omega - 1)\n",
    "plt.scatter(samples, weights)\n",
    "plt.ylabel('weights')\n",
    "#plt.ylim(0, 0.2)\n",
    "plt.xlim(rng[0], rng[1])\n",
    "plt.show()"
   ]
  },
  {
   "cell_type": "code",
   "execution_count": 10,
   "metadata": {},
   "outputs": [
    {
     "name": "stdout",
     "output_type": "stream",
     "text": [
      "sum of weights: 6.25409329828281\n"
     ]
    }
   ],
   "source": [
    "next_samples = [0] * n_samples\n",
    "sum_weight = sum(weights)\n",
    "print('sum of weights: ' + str(sum_weight))\n",
    "for i in range(n_samples):\n",
    "    r = random.uniform(0.0, sum_weight)\n",
    "    temp = 0\n",
    "    for j in range(n_samples):\n",
    "        temp += weights[j]\n",
    "        if r <= temp or j == n_samples - 1:\n",
    "            next_samples[i] = samples[j]\n",
    "            break"
   ]
  },
  {
   "cell_type": "code",
   "execution_count": 11,
   "metadata": {},
   "outputs": [
    {
     "data": {
      "image/png": "[encoded data removed]",
      "text/plain": [
       "<matplotlib.figure.Figure at 0x7f2e14386a58>"
      ]
     },
     "metadata": {},
     "output_type": "display_data"
    },
    {
     "name": "stdout",
     "output_type": "stream",
     "text": [
      "sum: 1.0000000000000009\n"
     ]
    }
   ],
   "source": [
    "p2 = estPDF(next_samples)\n",
    "showPDF(p2, 'p2', 0.05)"
   ]
  },
  {
   "cell_type": "code",
   "execution_count": 12,
   "metadata": {},
   "outputs": [
    {
     "data": {
      "image/png": "[encoded data removed]",
      "text/plain": [
       "<matplotlib.figure.Figure at 0x7f2e122aa4e0>"
      ]
     },
     "metadata": {},
     "output_type": "display_data"
    },
    {
     "data": {
      "image/png": "[encoded data removed]",
      "text/plain": [
       "<matplotlib.figure.Figure at 0x7f2e121f62b0>"
      ]
     },
     "metadata": {},
     "output_type": "display_data"
    }
   ],
   "source": [
    "plt.ylim(0, 1000)\n",
    "plt.xlim(rng[0], rng[1])\n",
    "plt.hist(samples, bins=20)\n",
    "plt.show()\n",
    "plt.ylim(0, 1000)\n",
    "plt.xlim(rng[0], rng[1])\n",
    "plt.hist(next_samples, bins=20)\n",
    "plt.show()"
   ]
  },
  {
   "cell_type": "markdown",
   "metadata": {},
   "source": [
    "# compare the two distributions"
   ]
  },
  {
   "cell_type": "code",
   "execution_count": 13,
   "metadata": {},
   "outputs": [
    {
     "data": {
      "image/png": "[encoded data removed]",
      "text/plain": [
       "<matplotlib.figure.Figure at 0x7f2e12255a58>"
      ]
     },
     "metadata": {},
     "output_type": "display_data"
    },
    {
     "name": "stdout",
     "output_type": "stream",
     "text": [
      "sum: 0.04723052657803264\n"
     ]
    }
   ],
   "source": [
    "diff = [0] * len(p)\n",
    "for i in range(len(diff)):\n",
    "    diff[i] = abs(p1[i] - p2[i])\n",
    "showPDF(diff, 'difference between $p_1$ and $p_2$')\n",
    "#showPDF(diff, 'difference between $p_1$ and $p_2$', 0.01)"
   ]
  },
  {
   "cell_type": "code",
   "execution_count": 14,
   "metadata": {},
   "outputs": [
    {
     "data": {
      "image/png": "[encoded data removed]",
      "text/plain": [
       "<matplotlib.figure.Figure at 0x7f2e1203ffd0>"
      ]
     },
     "metadata": {},
     "output_type": "display_data"
    },
    {
     "name": "stdout",
     "output_type": "stream",
     "text": [
      "sum: 0.999999999999999\n"
     ]
    }
   ],
   "source": [
    "p_hat = [0] * len(p)\n",
    "p_hat_sum = 0\n",
    "for i in range(len(p_hat)):\n",
    "    p_hat[i] = math.pow(p2[i], 1 / omega)\n",
    "    p_hat_sum += p_hat[i]*dlt\n",
    "for i in range(len(p_hat)):\n",
    "    p_hat[i] /= p_hat_sum\n",
    "showPDF(p_hat, '$\\hat{p}=\\eta p_2^{1/\\omega}$', 0.05)"
   ]
  },
  {
   "cell_type": "code",
   "execution_count": 15,
   "metadata": {},
   "outputs": [
    {
     "data": {
      "image/png": "[encoded data removed]",
      "text/plain": [
       "<matplotlib.figure.Figure at 0x7f2e11f8a668>"
      ]
     },
     "metadata": {},
     "output_type": "display_data"
    },
    {
     "name": "stdout",
     "output_type": "stream",
     "text": [
      "sum: 0.3756555492452853\n"
     ]
    }
   ],
   "source": [
    "diff = [0] * len(p_hat)\n",
    "for i in range(len(diff)):\n",
    "    diff[i] = abs(p[i] - p_hat[i])\n",
    "showPDF(diff, 'difference between $p$ and $\\hat{p}$')"
   ]
  }
 ],
 "metadata": {
  "kernelspec": {
   "display_name": "Python 3",
   "language": "python",
   "name": "python3"
  },
  "language_info": {
   "codemirror_mode": {
    "name": "ipython",
    "version": 3
   },
   "file_extension": ".py",
   "mimetype": "text/x-python",
   "name": "python",
   "nbconvert_exporter": "python",
   "pygments_lexer": "ipython3",
   "version": "3.6.9"
  }
 },
 "nbformat": 4,
 "nbformat_minor": 2
}
