{
 "cells": [
  {
   "cell_type": "markdown",
   "metadata": {},
   "source": [
    "# Experiment of fractional exponent to particle filter\n",
    "\n",
    "1. generate some samples\n",
    "1. estimate the distribution (discrete)\n",
    "1. generate reduced distributions by different processes\n",
    "    1. proc1\n",
    "        1. directly apply the fractional exponent to the estimated dist with normalization\n",
    "    1. proc2\n",
    "        1. calculate weights (proposed method!)\n",
    "        1. resampling\n",
    "        1. estimate the distribution based on the resampled ones\n",
    "1. compare the two distributions\n"
   ]
  },
  {
   "cell_type": "code",
   "execution_count": 13,
   "metadata": {},
   "outputs": [],
   "source": [
    "import random\n",
    "import math\n",
    "import matplotlib.pyplot as plt\n",
    "import statistics"
   ]
  },
  {
   "cell_type": "markdown",
   "metadata": {},
   "source": [
    "# generate some samples"
   ]
  },
  {
   "cell_type": "code",
   "execution_count": 14,
   "metadata": {},
   "outputs": [
    {
     "name": "stdout",
     "output_type": "stream",
     "text": [
      "max: 65.18349557100294\n",
      "min: 37.51771305866054\n"
     ]
    }
   ],
   "source": [
    "rng = [0, 100]\n",
    "dlt = 0.05\n",
    "n_samples = 300\n",
    "samples = []\n",
    "for i in range(n_samples):\n",
    "    #samples.append(random.uniform(rng[0] + (rng[1]-rng[0])*0.1, rng[1] - (rng[1]-rng[0])*0.1))\n",
    "    #samples.append(random.uniform(rng[0], rng[1]))\n",
    "    samples.append(random.gauss((rng[0]+rng[1])/2.0, (rng[1]-rng[0])/2.0 * 0.1))\n",
    "print(\"max: \" + str(max(samples)))\n",
    "print(\"min: \" + str(min(samples)))"
   ]
  },
  {
   "cell_type": "markdown",
   "metadata": {},
   "source": [
    "# estimate the distribution (discrete)"
   ]
  },
  {
   "cell_type": "code",
   "execution_count": 15,
   "metadata": {},
   "outputs": [],
   "source": [
    "sigma_opt = lambda s: statistics.variance(s) * math.pow(4.0/3.0/len(s), 1.0/5.0)\n",
    "k = lambda x1, x2, sigma=5: math.exp(-(x1 - x2)**2/sigma/sigma)\n",
    "x = rng[0]\n",
    "N = int((rng[1]-rng[0])/dlt+1)\n",
    "x_axis = []\n",
    "p = [0] * N\n",
    "sigma = sigma_opt(samples)\n",
    "for i in range(N):\n",
    "    x = rng[0] + i * dlt\n",
    "    x_axis += [x]\n",
    "    for s in samples:\n",
    "        p[i] += k(x, s, sigma)\n",
    "sum_p = sum(p) * dlt\n",
    "for i in range(len(p)):\n",
    "    p[i] /= sum_p"
   ]
  },
  {
   "cell_type": "code",
   "execution_count": 16,
   "metadata": {},
   "outputs": [
    {
     "data": {
      "image/png": "[encoded data removed]",
      "text/plain": [
       "<matplotlib.figure.Figure at 0x7f53da60e128>"
      ]
     },
     "metadata": {},
     "output_type": "display_data"
    },
    {
     "name": "stdout",
     "output_type": "stream",
     "text": [
      "sum: 1.0000000000000016\n"
     ]
    }
   ],
   "source": [
    "plt.scatter(x_axis, p)\n",
    "plt.ylabel('estimated distribution 1')\n",
    "plt.ylim(0, 0.05)\n",
    "plt.show()\n",
    "print('sum: ' + str(sum(p)*dlt))"
   ]
  },
  {
   "cell_type": "markdown",
   "metadata": {},
   "source": [
    "# generate reduced distributions by different processes"
   ]
  },
  {
   "cell_type": "code",
   "execution_count": 17,
   "metadata": {},
   "outputs": [],
   "source": [
    "omega = 0.1"
   ]
  },
  {
   "cell_type": "markdown",
   "metadata": {},
   "source": [
    "# proc1\n",
    "1. directly apply the fractional exponent to the estimated dist with normalization"
   ]
  },
  {
   "cell_type": "code",
   "execution_count": 26,
   "metadata": {},
   "outputs": [
    {
     "data": {
      "image/png": "[encoded data removed]",
      "text/plain": [
       "<matplotlib.figure.Figure at 0x7f53da7df4e0>"
      ]
     },
     "metadata": {},
     "output_type": "display_data"
    },
    {
     "name": "stdout",
     "output_type": "stream",
     "text": [
      "sum: 0.9999999999999981\n"
     ]
    }
   ],
   "source": [
    "p1 = [0] * len(p)\n",
    "sum_p1 = 0\n",
    "for i in range(len(p)):\n",
    "    p1[i] = math.pow(p[i], omega)\n",
    "sum_p1 = sum(p1) * dlt\n",
    "for i in range(len(p1)):\n",
    "    p1[i] /= sum_p1\n",
    "plt.scatter(x_axis, p1)\n",
    "plt.ylabel('p1')\n",
    "plt.ylim(0, 0.05)\n",
    "plt.show()\n",
    "print('sum: ' + str(sum(p1)*dlt))"
   ]
  },
  {
   "cell_type": "markdown",
   "metadata": {},
   "source": [
    "# proc2\n",
    "1. calculate weights (proposed method!)\n",
    "1. resampling\n",
    "1. estimate the distribution based on the resampled ones"
   ]
  },
  {
   "cell_type": "code",
   "execution_count": 19,
   "metadata": {},
   "outputs": [
    {
     "data": {
      "image/png": "[encoded data removed]",
      "text/plain": [
       "<matplotlib.figure.Figure at 0x7f53da5fec50>"
      ]
     },
     "metadata": {},
     "output_type": "display_data"
    }
   ],
   "source": [
    "weights = [0] * n_samples\n",
    "sigma = sigma_opt(samples)\n",
    "for i in range(n_samples):\n",
    "    for j in range(n_samples):\n",
    "        weights[i] += k(samples[i], samples[j], sigma)\n",
    "    weights[i] = math.pow(weights[i], omega - 1)\n",
    "plt.scatter(samples, weights)\n",
    "plt.ylabel('weights')\n",
    "#plt.ylim(0, 0.2)\n",
    "plt.xlim(rng[0], rng[1])\n",
    "plt.show()"
   ]
  },
  {
   "cell_type": "code",
   "execution_count": 20,
   "metadata": {},
   "outputs": [
    {
     "name": "stdout",
     "output_type": "stream",
     "text": [
      "sum of weights: 2.775057186238672\n"
     ]
    }
   ],
   "source": [
    "next_samples = [0] * n_samples\n",
    "sum_weight = sum(weights)\n",
    "print('sum of weights: ' + str(sum_weight))\n",
    "for i in range(n_samples):\n",
    "    r = random.uniform(0.0, sum_weight)\n",
    "    temp = 0\n",
    "    for j in range(n_samples):\n",
    "        temp += weights[j]\n",
    "        if r <= temp or j == n_samples - 1:\n",
    "            next_samples[i] = samples[j]\n",
    "            break"
   ]
  },
  {
   "cell_type": "code",
   "execution_count": 21,
   "metadata": {},
   "outputs": [
    {
     "data": {
      "image/png": "[encoded data removed]",
      "text/plain": [
       "<matplotlib.figure.Figure at 0x7f53da4f5898>"
      ]
     },
     "metadata": {},
     "output_type": "display_data"
    },
    {
     "name": "stdout",
     "output_type": "stream",
     "text": [
      "sum: 0.9999999999999956\n"
     ]
    }
   ],
   "source": [
    "x = rng[0]\n",
    "N = int((rng[1]-rng[0])/dlt+1)\n",
    "x_axis = []\n",
    "p2 = [0] * N\n",
    "sigma = sigma_opt(next_samples)\n",
    "for i in range(N):\n",
    "    x = rng[0] + i * dlt\n",
    "    x_axis += [x]\n",
    "    for s in next_samples:\n",
    "        p2[i] += k(x, s, sigma)\n",
    "sum_p2 = sum(p2) * dlt\n",
    "for i in range(len(p2)):\n",
    "    p2[i] /= sum_p2\n",
    "plt.scatter(x_axis, p2)\n",
    "plt.ylabel('p2')\n",
    "plt.ylim(0, 0.05)\n",
    "plt.show()\n",
    "print('sum: ' + str(sum(p2)*dlt))"
   ]
  },
  {
   "cell_type": "markdown",
   "metadata": {},
   "source": [
    "# compare the two distributions"
   ]
  },
  {
   "cell_type": "code",
   "execution_count": 22,
   "metadata": {},
   "outputs": [
    {
     "data": {
      "image/png": "[encoded data removed]",
      "text/plain": [
       "<matplotlib.figure.Figure at 0x7f53da4efba8>"
      ]
     },
     "metadata": {},
     "output_type": "display_data"
    }
   ],
   "source": [
    "diff = [0] * len(p)\n",
    "for i in range(len(diff)):\n",
    "    diff[i] = abs(p1[i] - p2[i])\n",
    "plt.scatter(x_axis, diff)\n",
    "plt.ylabel('difference between $p_1$ and $p_2$')\n",
    "#plt.ylim(0, 0.01)\n",
    "plt.show()"
   ]
  },
  {
   "cell_type": "code",
   "execution_count": 23,
   "metadata": {},
   "outputs": [
    {
     "data": {
      "image/png": "[encoded data removed]",
      "text/plain": [
       "<matplotlib.figure.Figure at 0x7f53da5baba8>"
      ]
     },
     "metadata": {},
     "output_type": "display_data"
    },
    {
     "name": "stdout",
     "output_type": "stream",
     "text": [
      "sum: 0.9999999999999973\n"
     ]
    }
   ],
   "source": [
    "p_hat = [0] * len(p)\n",
    "p_hat_sum = 0\n",
    "for i in range(len(p_hat)):\n",
    "    p_hat[i] = math.pow(p2[i], 1 - omega)\n",
    "    p_hat_sum += p_hat[i]*dlt\n",
    "for i in range(len(p_hat)):\n",
    "    p_hat[i] /= p_hat_sum\n",
    "plt.scatter(x_axis, p_hat)\n",
    "plt.ylabel('$\\hat{p}=\\eta p_2^{1-\\omega}$')\n",
    "plt.ylim(0, 0.05)\n",
    "plt.show()\n",
    "print('sum: ' + str(sum(p_hat)*dlt))"
   ]
  },
  {
   "cell_type": "code",
   "execution_count": 24,
   "metadata": {},
   "outputs": [
    {
     "data": {
      "image/png": "[encoded data removed]",
      "text/plain": [
       "<matplotlib.figure.Figure at 0x7f53da7d7710>"
      ]
     },
     "metadata": {},
     "output_type": "display_data"
    }
   ],
   "source": [
    "diff = [0] * len(p_hat)\n",
    "for i in range(len(diff)):\n",
    "    diff[i] = abs(p[i] - p_hat[i])\n",
    "plt.scatter(x_axis, diff)\n",
    "plt.ylabel('difference between $p$ and $\\hat{p}$')\n",
    "#plt.ylim(0, 0.01)\n",
    "plt.show()"
   ]
  }
 ],
 "metadata": {
  "kernelspec": {
   "display_name": "Python 3",
   "language": "python",
   "name": "python3"
  },
  "language_info": {
   "codemirror_mode": {
    "name": "ipython",
    "version": 3
   },
   "file_extension": ".py",
   "mimetype": "text/x-python",
   "name": "python",
   "nbconvert_exporter": "python",
   "pygments_lexer": "ipython3",
   "version": "3.6.9"
  }
 },
 "nbformat": 4,
 "nbformat_minor": 2
}
