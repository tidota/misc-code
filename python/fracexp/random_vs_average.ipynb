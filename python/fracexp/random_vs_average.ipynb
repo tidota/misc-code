{
 "cells": [
  {
   "cell_type": "code",
   "execution_count": 1,
   "metadata": {},
   "outputs": [],
   "source": [
    "import random\n",
    "import math\n",
    "import matplotlib.pyplot as plt\n",
    "import statistics"
   ]
  },
  {
   "cell_type": "code",
   "execution_count": 2,
   "metadata": {},
   "outputs": [],
   "source": [
    "f_optimize_sigma = False\n",
    "sigma_def = 8"
   ]
  },
  {
   "cell_type": "code",
   "execution_count": 3,
   "metadata": {},
   "outputs": [
    {
     "name": "stdout",
     "output_type": "stream",
     "text": [
      "sample1:\n",
      "max: 99.66779653761454\n",
      "min: 0.633809707685451\n",
      "sample2:\n",
      "max: 99.40226914557867\n",
      "min: 0.18456872737422358\n"
     ]
    }
   ],
   "source": [
    "rng = [0, 100]\n",
    "dlt = 0.05\n",
    "n_samples = 300\n",
    "def genSamples(center):\n",
    "    samples = []\n",
    "    for i in range(n_samples):\n",
    "        #samples.append(random.uniform(rng[0] + (rng[1]-rng[0])*0.1, rng[1] - (rng[1]-rng[0])*0.1))\n",
    "        if i % 5 == 0:\n",
    "            samples.append(rng[0] + (rng[1]-rng[0])*center)\n",
    "        else:\n",
    "            samples.append(random.uniform(rng[0], rng[1]))\n",
    "        #samples.append(random.uniform(rng[0], rng[1]))\n",
    "        #samples.append(random.gauss((rng[0]+rng[1])/2.0, (rng[1]-rng[0])/2.0 * 0.1))\n",
    "    return samples\n",
    "samples1 = genSamples(0.4)\n",
    "samples2 = genSamples(0.6)\n",
    "print(\"sample1:\")\n",
    "print(\"max: \" + str(max(samples1)))\n",
    "print(\"min: \" + str(min(samples1)))\n",
    "print(\"sample2:\")\n",
    "print(\"max: \" + str(max(samples2)))\n",
    "print(\"min: \" + str(min(samples2)))"
   ]
  },
  {
   "cell_type": "code",
   "execution_count": 4,
   "metadata": {},
   "outputs": [],
   "source": [
    "sigma_opt = lambda s: statistics.variance(s) * math.pow(4.0/3.0/len(s), 1.0/5.0)\n",
    "k = lambda x1, x2, sigma=sigma_def: math.exp(-(x1 - x2)**2/sigma/sigma)\n",
    "x = rng[0]\n",
    "N = int((rng[1]-rng[0])/dlt+1)\n",
    "x_axis = [rng[0] + i * dlt for i in range(N)]\n",
    "\n",
    "def estPDF(samples):\n",
    "    x = rng[0]\n",
    "    p = [0] * N\n",
    "    sigma = sigma_opt(samples) if f_optimize_sigma else sigma_def\n",
    "    for i in range(N):\n",
    "        x = rng[0] + i * dlt\n",
    "        for s in samples:\n",
    "            p[i] += k(x, s, sigma)\n",
    "    sum_p = sum(p) * dlt\n",
    "    for i in range(len(p)):\n",
    "        p[i] /= sum_p\n",
    "    return p\n",
    "def showPDF(p, title, ylim=None):\n",
    "    plt.scatter(x_axis, p)\n",
    "    plt.ylabel(title)\n",
    "    if ylim != None:\n",
    "        plt.ylim(0, ylim)\n",
    "    plt.show()\n",
    "    print('sum: ' + str(sum(p)*dlt))"
   ]
  },
  {
   "cell_type": "code",
   "execution_count": 5,
   "metadata": {},
   "outputs": [],
   "source": [
    "p1 = estPDF(samples1)\n",
    "p2 = estPDF(samples2)"
   ]
  },
  {
   "cell_type": "code",
   "execution_count": 6,
   "metadata": {},
   "outputs": [
    {
     "data": {
      "image/png": "[encoded data removed]",
      "text/plain": [
       "<matplotlib.figure.Figure at 0x7f5c26c53080>"
      ]
     },
     "metadata": {},
     "output_type": "display_data"
    },
    {
     "name": "stdout",
     "output_type": "stream",
     "text": [
      "sum: 1.000000000000002\n"
     ]
    },
    {
     "data": {
      "image/png": "[encoded data removed]",
      "text/plain": [
       "<matplotlib.figure.Figure at 0x7f5c26c80400>"
      ]
     },
     "metadata": {},
     "output_type": "display_data"
    },
    {
     "name": "stdout",
     "output_type": "stream",
     "text": [
      "sum: 1.0000000000000009\n"
     ]
    }
   ],
   "source": [
    "showPDF(p1, 'estimated distribution 1', 0.05)\n",
    "showPDF(p2, 'estimated distribution 2', 0.05)"
   ]
  },
  {
   "cell_type": "markdown",
   "metadata": {},
   "source": [
    "# naive way\n",
    "just calculate the average distance"
   ]
  },
  {
   "cell_type": "code",
   "execution_count": 9,
   "metadata": {},
   "outputs": [
    {
     "data": {
      "text/plain": [
       "32.06730287600616"
      ]
     },
     "execution_count": 9,
     "metadata": {},
     "output_type": "execute_result"
    }
   ],
   "source": [
    "total = 0\n",
    "for a in samples1:\n",
    "    for b in samples2:\n",
    "        total += math.fabs(a - b)\n",
    "total = total / n_samples / n_samples\n",
    "total"
   ]
  },
  {
   "cell_type": "code",
   "execution_count": 10,
   "metadata": {},
   "outputs": [
    {
     "data": {
      "text/plain": [
       "31.56487013106671"
      ]
     },
     "execution_count": 10,
     "metadata": {},
     "output_type": "execute_result"
    }
   ],
   "source": [
    "total = 0\n",
    "for a in samples1:\n",
    "    b = samples2[random.randrange(0, n_samples)]\n",
    "    total += math.fabs(a - b)\n",
    "total = total / n_samples\n",
    "total"
   ]
  }
 ],
 "metadata": {
  "kernelspec": {
   "display_name": "Python 3",
   "language": "python",
   "name": "python3"
  },
  "language_info": {
   "codemirror_mode": {
    "name": "ipython",
    "version": 3
   },
   "file_extension": ".py",
   "mimetype": "text/x-python",
   "name": "python",
   "nbconvert_exporter": "python",
   "pygments_lexer": "ipython3",
   "version": "3.6.9"
  }
 },
 "nbformat": 4,
 "nbformat_minor": 2
}
