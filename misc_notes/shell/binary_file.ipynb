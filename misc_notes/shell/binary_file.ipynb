{
 "cells": [
  {
   "cell_type": "markdown",
   "metadata": {},
   "source": [
    "# Binary file inspection\n",
    "\n",
    "# objdump\n",
    "\n",
    "## show assembly code without instruction bytes\n",
    "```\n",
    "objdump --no-show-raw-insn -d <binary file>\n",
    "```\n",
    "\n",
    "## does the same thing but elf-specific\n",
    "```\n",
    "readelf -a <binary file>\n",
    "```\n"
   ]
  }
 ],
 "metadata": {
  "kernelspec": {
   "display_name": "Python 3",
   "language": "python",
   "name": "python3"
  },
  "language_info": {
   "codemirror_mode": {
    "name": "ipython",
    "version": 3
   },
   "file_extension": ".py",
   "mimetype": "text/x-python",
   "name": "python",
   "nbconvert_exporter": "python",
   "pygments_lexer": "ipython3",
   "version": "3.6.7"
  }
 },
 "nbformat": 4,
 "nbformat_minor": 2
}
