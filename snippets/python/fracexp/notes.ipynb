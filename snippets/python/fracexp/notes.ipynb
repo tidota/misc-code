{
 "cells": [
  {
   "cell_type": "markdown",
   "metadata": {},
   "source": [
    "# Experiment of fractional exponent to particle filter\n",
    "\n",
    "1. generate some samples\n",
    "1. estimate the distribution (discrete)\n",
    "1. generate reduced distributions by different processes\n",
    "    1. proc1\n",
    "        1. directly apply the fractional exponent to the estimated dist with normalization\n",
    "    1. proc2\n",
    "        1. calculate weights (proposed method!)\n",
    "        1. resampling\n",
    "        1. estimate the distribution based on the resampled ones\n",
    "1. compare the two distributions\n"
   ]
  },
  {
   "cell_type": "code",
   "execution_count": 1,
   "metadata": {},
   "outputs": [],
   "source": [
    "import random\n",
    "import math\n",
    "import matplotlib.pyplot as plt"
   ]
  },
  {
   "cell_type": "markdown",
   "metadata": {},
   "source": [
    "# generate some samples"
   ]
  },
  {
   "cell_type": "code",
   "execution_count": 2,
   "metadata": {},
   "outputs": [],
   "source": [
    "rng = [0, 100]\n",
    "dlt = 0.05\n",
    "n_samples = 300\n",
    "samples = []\n",
    "for i in range(n_samples):\n",
    "    samples.append(random.uniform(rng[0] + (rng[1]-rng[0])*0.1, rng[1] - (rng[1]-rng[0])*0.1))"
   ]
  },
  {
   "cell_type": "markdown",
   "metadata": {},
   "source": [
    "# estimate the distribution (discrete)"
   ]
  },
  {
   "cell_type": "code",
   "execution_count": 3,
   "metadata": {},
   "outputs": [],
   "source": [
    "sigma = 5\n",
    "k = lambda x1, x2: math.exp(-(x1 - x2)**2/sigma/sigma)\n",
    "x = rng[0]\n",
    "N = int((rng[1]-rng[0])/dlt+1)\n",
    "x_axis = []\n",
    "p = [0] * N\n",
    "for i in range(N):\n",
    "    x = rng[0] + i * dlt\n",
    "    x_axis += [x]\n",
    "    for s in samples:\n",
    "        p[i] += k(x, s)\n",
    "sum_p = sum(p) * dlt\n",
    "for i in range(len(p)):\n",
    "    p[i] /= sum_p"
   ]
  },
  {
   "cell_type": "code",
   "execution_count": 4,
   "metadata": {},
   "outputs": [
    {
     "data": {
      "image/png": "[encoded data removed]",
      "text/plain": [
       "<matplotlib.figure.Figure at 0x7f8b6fcff860>"
      ]
     },
     "metadata": {},
     "output_type": "display_data"
    },
    {
     "name": "stdout",
     "output_type": "stream",
     "text": [
      "sum: 1.000000000000002\n"
     ]
    }
   ],
   "source": [
    "plt.scatter(x_axis, p)\n",
    "plt.ylabel('estimated distribution 1')\n",
    "plt.ylim(0, 0.05)\n",
    "plt.show()\n",
    "print('sum: ' + str(sum(p)*dlt))"
   ]
  },
  {
   "cell_type": "markdown",
   "metadata": {},
   "source": [
    "# generate reduced distributions by different processes"
   ]
  },
  {
   "cell_type": "code",
   "execution_count": 5,
   "metadata": {},
   "outputs": [],
   "source": [
    "omega = 0.5"
   ]
  },
  {
   "cell_type": "markdown",
   "metadata": {},
   "source": [
    "# proc1\n",
    "1. directly apply the fractional exponent to the estimated dist with normalization"
   ]
  },
  {
   "cell_type": "code",
   "execution_count": 6,
   "metadata": {},
   "outputs": [
    {
     "data": {
      "image/png": "[encoded data removed]",
      "text/plain": [
       "<matplotlib.figure.Figure at 0x7f8b6dc9db00>"
      ]
     },
     "metadata": {},
     "output_type": "display_data"
    },
    {
     "name": "stdout",
     "output_type": "stream",
     "text": [
      "sum: 1.0000000000000016\n"
     ]
    }
   ],
   "source": [
    "p1 = [0] * len(p)\n",
    "sum_p1 = 0\n",
    "for i in range(len(p)):\n",
    "    p1[i] = math.pow(p[i], omega)\n",
    "    sum_p1 += p1[i] * dlt\n",
    "for i in range(len(p1)):\n",
    "    p1[i] /= sum_p1\n",
    "plt.scatter(x_axis, p1)\n",
    "plt.ylabel('p1')\n",
    "plt.ylim(0, 0.05)\n",
    "plt.show()\n",
    "print('sum: ' + str(sum(p1)*dlt))"
   ]
  },
  {
   "cell_type": "markdown",
   "metadata": {},
   "source": [
    "# proc2\n",
    "1. calculate weights (proposed method!)\n",
    "1. resampling\n",
    "1. estimate the distribution based on the resampled ones"
   ]
  },
  {
   "cell_type": "markdown",
   "metadata": {},
   "source": [
    "# compare the two distributions"
   ]
  }
 ],
 "metadata": {
  "kernelspec": {
   "display_name": "Python 3",
   "language": "python",
   "name": "python3"
  },
  "language_info": {
   "codemirror_mode": {
    "name": "ipython",
    "version": 3
   },
   "file_extension": ".py",
   "mimetype": "text/x-python",
   "name": "python",
   "nbconvert_exporter": "python",
   "pygments_lexer": "ipython3",
   "version": "3.6.9"
  }
 },
 "nbformat": 4,
 "nbformat_minor": 2
}
