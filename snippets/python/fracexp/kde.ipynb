{
 "cells": [
  {
   "cell_type": "markdown",
   "metadata": {},
   "source": [
    "# KDE\n",
    "Kernel Density Estimation\n",
    "\n",
    "- sample particles\n",
    "- calculate the average distance\n",
    "- estimate the density\n"
   ]
  },
  {
   "cell_type": "code",
   "execution_count": 38,
   "metadata": {},
   "outputs": [],
   "source": [
    "import random\n",
    "import math\n",
    "import matplotlib.pyplot as plt\n",
    "import statistics"
   ]
  },
  {
   "cell_type": "code",
   "execution_count": 39,
   "metadata": {},
   "outputs": [],
   "source": [
    "f_optimize_sigma = True\n",
    "sigma_def = 5"
   ]
  },
  {
   "cell_type": "code",
   "execution_count": 40,
   "metadata": {},
   "outputs": [
    {
     "name": "stdout",
     "output_type": "stream",
     "text": [
      "max: 99.73029198594946\n",
      "min: 1.2451014154077678\n"
     ]
    }
   ],
   "source": [
    "rng = [0, 100]\n",
    "dlt = 0.05\n",
    "n_samples = 300\n",
    "def genSamples(center):\n",
    "    samples = []\n",
    "    for i in range(n_samples):\n",
    "        #samples.append(random.uniform(rng[0] + (rng[1]-rng[0])*0.1, rng[1] - (rng[1]-rng[0])*0.1))\n",
    "        if i % 5 == 0:\n",
    "            samples.append(rng[0] + (rng[1]-rng[0])*center)\n",
    "        else:\n",
    "            samples.append(random.uniform(rng[0], rng[1]))\n",
    "        #samples.append(random.uniform(rng[0], rng[1]))\n",
    "        #samples.append(random.gauss((rng[0]+rng[1])/2.0, (rng[1]-rng[0])/2.0 * 0.1))\n",
    "    return samples\n",
    "samples = genSamples(0.4)\n",
    "print(\"max: \" + str(max(samples)))\n",
    "print(\"min: \" + str(min(samples)))"
   ]
  },
  {
   "cell_type": "code",
   "execution_count": 41,
   "metadata": {},
   "outputs": [
    {
     "name": "stdout",
     "output_type": "stream",
     "text": [
      "29.037449544068153\n"
     ]
    }
   ],
   "source": [
    "dist = 0\n",
    "for i in range(n_samples):\n",
    "    for j in range(i + 1, n_samples):\n",
    "        dist += math.fabs(samples[i] - samples[j])\n",
    "dist /= (n_samples - 1) * n_samples / 2\n",
    "print(dist)\n",
    "sigma_opt = dist"
   ]
  },
  {
   "cell_type": "code",
   "execution_count": 44,
   "metadata": {},
   "outputs": [],
   "source": [
    "#sigma_opt = lambda s: statistics.variance(s) * math.pow(4.0/3.0/len(s), 1.0/5.0)\n",
    "k = lambda x1, x2, sigma=sigma_def: math.exp(-(x1 - x2)**2/sigma/sigma/2)\n",
    "x = rng[0]\n",
    "N = int((rng[1]-rng[0])/dlt+1)\n",
    "x_axis = [rng[0] + i * dlt for i in range(N)]\n",
    "\n",
    "def estPDF(samples):\n",
    "    x = rng[0]\n",
    "    p = [0] * N\n",
    "    sigma = sigma_opt if f_optimize_sigma else sigma_def\n",
    "    for i in range(N):\n",
    "        x = rng[0] + i * dlt\n",
    "        for s in samples:\n",
    "            p[i] += k(x, s, sigma)\n",
    "    sum_p = sum(p) * dlt\n",
    "    for i in range(len(p)):\n",
    "        p[i] /= sum_p\n",
    "    return p\n",
    "def showPDF(p, title, ylim=None):\n",
    "    plt.scatter(x_axis, p)\n",
    "    plt.ylabel(title)\n",
    "    if ylim != None:\n",
    "        plt.ylim(0, ylim)\n",
    "    plt.show()\n",
    "    print('sum: ' + str(sum(p)*dlt))"
   ]
  },
  {
   "cell_type": "code",
   "execution_count": 45,
   "metadata": {},
   "outputs": [
    {
     "data": {
      "image/png": "[encoded data removed]",
      "text/plain": [
       "<matplotlib.figure.Figure at 0x7f95fe2b7860>"
      ]
     },
     "metadata": {},
     "output_type": "display_data"
    },
    {
     "name": "stdout",
     "output_type": "stream",
     "text": [
      "sum: 1.000000000000001\n"
     ]
    }
   ],
   "source": [
    "p = estPDF(samples)\n",
    "showPDF(p, 'estimated distribution', 0.06)"
   ]
  },
  {
   "cell_type": "code",
   "execution_count": 46,
   "metadata": {},
   "outputs": [
    {
     "data": {
      "text/plain": [
       "(array([16.,  9., 10., 19., 12., 14.,  9., 70.,  9., 17., 10., 13.,  6.,\n",
       "        17., 15., 14., 10., 12., 11.,  7.]),\n",
       " array([ 1.24510142,  6.16936094, 11.09362047, 16.01788   , 20.94213953,\n",
       "        25.86639906, 30.79065859, 35.71491812, 40.63917764, 45.56343717,\n",
       "        50.4876967 , 55.41195623, 60.33621576, 65.26047529, 70.18473481,\n",
       "        75.10899434, 80.03325387, 84.9575134 , 89.88177293, 94.80603246,\n",
       "        99.73029199]),\n",
       " <a list of 20 Patch objects>)"
      ]
     },
     "execution_count": 46,
     "metadata": {},
     "output_type": "execute_result"
    },
    {
     "data": {
      "image/png": "[encoded data removed]",
      "text/plain": [
       "<matplotlib.figure.Figure at 0x7f95fe3c6940>"
      ]
     },
     "metadata": {},
     "output_type": "display_data"
    }
   ],
   "source": [
    "plt.xlim(rng[0], rng[1])\n",
    "plt.hist(samples, bins=20)"
   ]
  }
 ],
 "metadata": {
  "kernelspec": {
   "display_name": "Python 3",
   "language": "python",
   "name": "python3"
  },
  "language_info": {
   "codemirror_mode": {
    "name": "ipython",
    "version": 3
   },
   "file_extension": ".py",
   "mimetype": "text/x-python",
   "name": "python",
   "nbconvert_exporter": "python",
   "pygments_lexer": "ipython3",
   "version": "3.6.9"
  }
 },
 "nbformat": 4,
 "nbformat_minor": 2
}
