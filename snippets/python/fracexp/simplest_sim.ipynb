{
 "cells": [
  {
   "cell_type": "markdown",
   "metadata": {},
   "source": [
    "# Simplest simulation of confidence reduction\n",
    "\n",
    "- Two estimators\n",
    "- Each one has a probability distribution\n",
    "- They exchange their estimates\n",
    "    - by the naive\n",
    "    - by the conservative data exchange\n",
    "- What if they repeated the exchange multiple times?\n",
    "- What if the exchanged data gains some noises?\n",
    "\n"
   ]
  }
 ],
 "metadata": {
  "kernelspec": {
   "display_name": "Python 3",
   "language": "python",
   "name": "python3"
  },
  "language_info": {
   "codemirror_mode": {
    "name": "ipython",
    "version": 3
   },
   "file_extension": ".py",
   "mimetype": "text/x-python",
   "name": "python",
   "nbconvert_exporter": "python",
   "pygments_lexer": "ipython3",
   "version": "3.6.9"
  }
 },
 "nbformat": 4,
 "nbformat_minor": 2
}
