{
 "cells": [
  {
   "cell_type": "markdown",
   "metadata": {},
   "source": [
    "# Simplest simulation of confidence reduction\n",
    "\n",
    "- Two estimators\n",
    "- Each one has a probability distribution\n",
    "- They exchange their estimates\n",
    "    - by the naive\n",
    "    - by the conservative data exchange\n",
    "- What if they repeated the exchange multiple times?\n",
    "- What if the exchanged data gains some noises?\n",
    "\n"
   ]
  },
  {
   "cell_type": "code",
   "execution_count": 46,
   "metadata": {},
   "outputs": [],
   "source": [
    "import random\n",
    "import math\n",
    "import matplotlib.pyplot as plt\n",
    "import statistics\n",
    "import numpy as np"
   ]
  },
  {
   "cell_type": "markdown",
   "metadata": {},
   "source": [
    "## make two distributions"
   ]
  },
  {
   "cell_type": "code",
   "execution_count": 47,
   "metadata": {},
   "outputs": [
    {
     "name": "stdout",
     "output_type": "stream",
     "text": [
      "N: 1000\n",
      "sum1: 1.0000000000000004\n",
      "sum2: 0.9999676541896152\n"
     ]
    },
    {
     "data": {
      "image/png": "[encoded data removed]",
      "text/plain": [
       "<matplotlib.figure.Figure at 0x7f7e8d0b3588>"
      ]
     },
     "metadata": {},
     "output_type": "display_data"
    },
    {
     "name": "stdout",
     "output_type": "stream",
     "text": [
      "max at 45.0\n"
     ]
    },
    {
     "data": {
      "image/png": "[encoded data removed]",
      "text/plain": [
       "<matplotlib.figure.Figure at 0x7f7e8d1bd390>"
      ]
     },
     "metadata": {},
     "output_type": "display_data"
    },
    {
     "name": "stdout",
     "output_type": "stream",
     "text": [
      "max at 60.0\n"
     ]
    }
   ],
   "source": [
    "x_max = 100\n",
    "x_min = 0\n",
    "dlt = 0.1\n",
    "N = int((x_max-x_min)/dlt)\n",
    "print('N: ' + str(N))\n",
    "x_axis = [x_min + i * dlt for i in range(N)]\n",
    "\n",
    "def p(x, mean, sigma):\n",
    "    return math.exp(-0.5*(x - mean)**2 / sigma / sigma) / math.sqrt(2*math.pi*sigma*sigma)\n",
    "\n",
    "\n",
    "dist1 = [p(x, 45, 5) for x in x_axis]\n",
    "print('sum1: ' + str(sum(dist1)*dlt))\n",
    "dist2 = [p(x, 60, 10) for x in x_axis]\n",
    "print('sum2: ' + str(sum(dist2)*dlt))\n",
    "\n",
    "plt.scatter(x_axis, dist1)\n",
    "plt.xlim(x_min, x_max)\n",
    "plt.show()\n",
    "print(\"max at \" + str(np.argmax(dist1)*dlt))\n",
    "plt.scatter(x_axis, dist2)\n",
    "plt.xlim(x_min, x_max)\n",
    "plt.show()\n",
    "print(\"max at \" + str(np.argmax(dist2)*dlt))"
   ]
  },
  {
   "cell_type": "markdown",
   "metadata": {},
   "source": [
    "# interaction functions"
   ]
  },
  {
   "cell_type": "code",
   "execution_count": 48,
   "metadata": {},
   "outputs": [
    {
     "name": "stdout",
     "output_type": "stream",
     "text": [
      "0.9999999999999987\n"
     ]
    },
    {
     "data": {
      "image/png": "[encoded data removed]",
      "text/plain": [
       "<matplotlib.figure.Figure at 0x7f7e8d090c50>"
      ]
     },
     "metadata": {},
     "output_type": "display_data"
    },
    {
     "name": "stdout",
     "output_type": "stream",
     "text": [
      "max at 48.0\n"
     ]
    }
   ],
   "source": [
    "def combine(p1, p2, off = 0):\n",
    "    ans = []\n",
    "    for i in range(len(p1)):\n",
    "        if i + off < 0:\n",
    "            ans.append(p1[i]*p2[0])\n",
    "        elif len(p2) <= i + off:\n",
    "            ans.append(p1[i]*p2[-1])\n",
    "        else:\n",
    "            ans.append(p1[i]*p2[i+off])\n",
    "    temp_min = min(ans)\n",
    "    for i in range(len(ans)):\n",
    "        if ans[i] == 0:\n",
    "            ans[i] = temp_min\n",
    "    total = sum(ans)*dlt\n",
    "    for i in range(len(ans)):\n",
    "        ans[i] /= total\n",
    "    return ans\n",
    "\n",
    "def divide(p, omega):\n",
    "    ans1 = []\n",
    "    ans2 = []\n",
    "    for i in range(len(p)):\n",
    "        ans1.append(math.pow(p[i], omega))\n",
    "        ans2.append(math.pow(p[i], 1-omega))\n",
    "    total1 = sum(ans1)*dlt\n",
    "    total2 = sum(ans2)*dlt\n",
    "    for i in range(len(ans1)):\n",
    "        ans1[i] /= total1\n",
    "        ans2[i] /= total2\n",
    "    return [ans1, ans2]\n",
    "\n",
    "p_comb = combine(dist1, dist2)\n",
    "print(sum(p_comb)*dlt)\n",
    "plt.scatter(x_axis, p_comb)\n",
    "plt.xlim(x_min, x_max)\n",
    "plt.show()\n",
    "print(\"max at \" + str(np.argmax(p_comb)*dlt))\n",
    "# p1, p2 = divide(p, 0.4)\n",
    "# print(sum(p1)*dlt)\n",
    "# print(sum(p2)*dlt)\n",
    "# plt.scatter(x_axis, p1)\n",
    "# plt.xlim(x_min, x_max)\n",
    "# plt.show()\n",
    "# plt.scatter(x_axis, p2)\n",
    "# plt.xlim(x_min, x_max)\n",
    "# plt.show()"
   ]
  },
  {
   "cell_type": "markdown",
   "metadata": {},
   "source": [
    "# repeated interactions"
   ]
  },
  {
   "cell_type": "code",
   "execution_count": 49,
   "metadata": {},
   "outputs": [],
   "source": [
    "n_interactions = 10"
   ]
  },
  {
   "cell_type": "markdown",
   "metadata": {},
   "source": [
    "## Naive"
   ]
  },
  {
   "cell_type": "code",
   "execution_count": 50,
   "metadata": {},
   "outputs": [
    {
     "name": "stdout",
     "output_type": "stream",
     "text": [
      "1.0\n",
      "1.0\n"
     ]
    },
    {
     "data": {
      "image/png": "[encoded data removed]",
      "text/plain": [
       "<matplotlib.figure.Figure at 0x7f7e8d1b7c88>"
      ]
     },
     "metadata": {},
     "output_type": "display_data"
    },
    {
     "name": "stdout",
     "output_type": "stream",
     "text": [
      "max at 48.0\n"
     ]
    },
    {
     "data": {
      "image/png": "[encoded data removed]",
      "text/plain": [
       "<matplotlib.figure.Figure at 0x7f7e8d14f5f8>"
      ]
     },
     "metadata": {},
     "output_type": "display_data"
    },
    {
     "name": "stdout",
     "output_type": "stream",
     "text": [
      "max at 48.0\n"
     ]
    }
   ],
   "source": [
    "p1 = list(dist1)\n",
    "p2 = list(dist2)\n",
    "for i in range(n_interactions):\n",
    "    p1 = combine(p1, p2)\n",
    "    p2 = list(p1)\n",
    "\n",
    "print(sum(p1)*dlt)\n",
    "print(sum(p2)*dlt)\n",
    "plt.scatter(x_axis, p1)\n",
    "plt.xlim(x_min, x_max)\n",
    "plt.show()\n",
    "print(\"max at \" + str(np.argmax(p1)*dlt))\n",
    "plt.scatter(x_axis, p2)\n",
    "plt.xlim(x_min, x_max)\n",
    "plt.show()\n",
    "print(\"max at \" + str(np.argmax(p2)*dlt))"
   ]
  },
  {
   "cell_type": "markdown",
   "metadata": {},
   "source": [
    "# Conservative"
   ]
  },
  {
   "cell_type": "code",
   "execution_count": 51,
   "metadata": {},
   "outputs": [
    {
     "name": "stdout",
     "output_type": "stream",
     "text": [
      "1.0000000000000007\n",
      "1.0000000000000007\n"
     ]
    },
    {
     "data": {
      "image/png": "[encoded data removed]",
      "text/plain": [
       "<matplotlib.figure.Figure at 0x7f7e8d1f0588>"
      ]
     },
     "metadata": {},
     "output_type": "display_data"
    },
    {
     "name": "stdout",
     "output_type": "stream",
     "text": [
      "max at 48.0\n"
     ]
    },
    {
     "data": {
      "image/png": "[encoded data removed]",
      "text/plain": [
       "<matplotlib.figure.Figure at 0x7f7e8d1ae780>"
      ]
     },
     "metadata": {},
     "output_type": "display_data"
    },
    {
     "name": "stdout",
     "output_type": "stream",
     "text": [
      "max at 48.0\n"
     ]
    }
   ],
   "source": [
    "p1 = list(dist1)\n",
    "p2 = list(dist2)\n",
    "omega = 0.9\n",
    "for i in range(n_interactions):\n",
    "    p1_omega, p1_1_omega = divide(p1, omega)\n",
    "    p2_omega, p2_1_omega = divide(p2, omega)\n",
    "    p1 = combine(p1_omega, p2_1_omega)\n",
    "    p2 = combine(p2_omega, p1_1_omega)\n",
    "\n",
    "print(sum(p1)*dlt)\n",
    "print(sum(p2)*dlt)\n",
    "plt.scatter(x_axis, p1)\n",
    "plt.xlim(x_min, x_max)\n",
    "plt.show()\n",
    "print(\"max at \" + str(np.argmax(p1)*dlt))\n",
    "plt.scatter(x_axis, p2)\n",
    "plt.xlim(x_min, x_max)\n",
    "plt.show()\n",
    "print(\"max at \" + str(np.argmax(p2)*dlt))"
   ]
  },
  {
   "cell_type": "markdown",
   "metadata": {},
   "source": [
    "# noises"
   ]
  },
  {
   "cell_type": "code",
   "execution_count": 52,
   "metadata": {},
   "outputs": [
    {
     "data": {
      "image/png": "[encoded data removed]",
      "text/plain": [
       "<matplotlib.figure.Figure at 0x7f7e8d194908>"
      ]
     },
     "metadata": {},
     "output_type": "display_data"
    },
    {
     "name": "stdout",
     "output_type": "stream",
     "text": [
      "1.0\n"
     ]
    }
   ],
   "source": [
    "noise_sigma = 2\n",
    "noise_mean = (x_min+x_max)/2.0\n",
    "p_noise = [p(x, noise_mean, noise_sigma) for x in x_axis]\n",
    "noise_mean_indx = len(p_noise)//2\n",
    "plt.scatter(x_axis, p_noise)\n",
    "plt.xlim(x_min, x_max)\n",
    "plt.show()\n",
    "print(sum(p_noise)*dlt)\n",
    "\n"
   ]
  },
  {
   "cell_type": "markdown",
   "metadata": {},
   "source": [
    "# Convolution"
   ]
  },
  {
   "cell_type": "code",
   "execution_count": 53,
   "metadata": {},
   "outputs": [
    {
     "data": {
      "image/png": "[encoded data removed]",
      "text/plain": [
       "<matplotlib.figure.Figure at 0x7f7e8cf19cf8>"
      ]
     },
     "metadata": {},
     "output_type": "display_data"
    },
    {
     "name": "stdout",
     "output_type": "stream",
     "text": [
      "0.9999999999999987\n"
     ]
    },
    {
     "data": {
      "image/png": "[encoded data removed]",
      "text/plain": [
       "<matplotlib.figure.Figure at 0x7f7e8d1843c8>"
      ]
     },
     "metadata": {},
     "output_type": "display_data"
    },
    {
     "name": "stdout",
     "output_type": "stream",
     "text": [
      "0.9999999999999997\n",
      "noise: 48.61343564069519\n",
      "off: -13 for 1000\n"
     ]
    },
    {
     "data": {
      "image/png": "[encoded data removed]",
      "text/plain": [
       "<matplotlib.figure.Figure at 0x7f7e8d2cc7f0>"
      ]
     },
     "metadata": {},
     "output_type": "display_data"
    },
    {
     "name": "stdout",
     "output_type": "stream",
     "text": [
      "1.0000000000000033\n",
      "max at 48.2\n"
     ]
    },
    {
     "data": {
      "image/png": "[encoded data removed]",
      "text/plain": [
       "<matplotlib.figure.Figure at 0x7f7e8d036128>"
      ]
     },
     "metadata": {},
     "output_type": "display_data"
    },
    {
     "name": "stdout",
     "output_type": "stream",
     "text": [
      "1.0\n",
      "max at 47.300000000000004\n"
     ]
    },
    {
     "data": {
      "image/png": "[encoded data removed]",
      "text/plain": [
       "<matplotlib.figure.Figure at 0x7f7e8cf876d8>"
      ]
     },
     "metadata": {},
     "output_type": "display_data"
    },
    {
     "name": "stdout",
     "output_type": "stream",
     "text": [
      "1.0000000000000038\n",
      "max at 48.300000000000004\n"
     ]
    }
   ],
   "source": [
    "def conv(p1, p2, position):\n",
    "    ans = [0] * len(p1)\n",
    "    for i in range(len(p1)):\n",
    "        for j in range(len(p2)):\n",
    "            k = j - i + position\n",
    "            if 0 <= k and k < len(p2):\n",
    "                ans[i] += p1[j] * p2[k]\n",
    "    total = sum(ans)*dlt\n",
    "    for i in range(len(ans)):\n",
    "        ans[i] /= total\n",
    "    return ans\n",
    "\n",
    "p1_conv = conv(dist1, p_noise, noise_mean_indx)\n",
    "plt.scatter(x_axis, p1_conv)\n",
    "plt.xlim(x_min, x_max)\n",
    "plt.show()\n",
    "print(sum(p1_conv)*dlt)\n",
    "p2_conv = conv(dist2, p_noise, noise_mean_indx)\n",
    "plt.scatter(x_axis, p2_conv)\n",
    "plt.xlim(x_min, x_max)\n",
    "plt.show()\n",
    "print(sum(p2_conv)*dlt)\n",
    "\n",
    "\n",
    "noise = random.gauss((x_min+x_max)/2.0, noise_sigma)\n",
    "print('noise: ' + str(noise))\n",
    "print('off: ' + str(int((noise-noise_mean)/dlt+0.5)) + ' for ' + str(len(dist1)))\n",
    "\n",
    "p1_comb = combine(dist1, p2_conv, int((noise-noise_mean)/dlt+0.5))\n",
    "plt.scatter(x_axis, p1_comb)\n",
    "plt.xlim(x_min, x_max)\n",
    "plt.show()\n",
    "print(sum(p1_comb)*dlt)\n",
    "print(\"max at \" + str(np.argmax(p1_comb)*dlt))\n",
    "\n",
    "p2_comb = combine(dist2, p1_conv, int(-(noise-noise_mean)/dlt+0.5))\n",
    "plt.scatter(x_axis, p2_comb)\n",
    "plt.xlim(x_min, x_max)\n",
    "plt.show()\n",
    "print(sum(p2_comb)*dlt)\n",
    "print(\"max at \" + str(np.argmax(p2_comb)*dlt))\n",
    "\n",
    "p_comb = combine(p1_conv, p2_conv)\n",
    "plt.scatter(x_axis, p_comb)\n",
    "plt.xlim(x_min, x_max)\n",
    "plt.show()\n",
    "print(sum(p_comb)*dlt)\n",
    "print(\"max at \" + str(np.argmax(p_comb)*dlt))"
   ]
  },
  {
   "cell_type": "markdown",
   "metadata": {},
   "source": [
    "# entropy"
   ]
  },
  {
   "cell_type": "code",
   "execution_count": 54,
   "metadata": {},
   "outputs": [
    {
     "name": "stdout",
     "output_type": "stream",
     "text": [
      "H(dist1): 7.6909517749553515\n",
      "H(dist2): 8.690277198943757\n",
      "H(dist1;dist1): 7.6909517749553515\n",
      "H(dist1;dist2): 9.772973055622074\n",
      "D_KL(dist1||dist1): 0.0\n",
      "D_KL(dist1||dist2): 2.0820212806667238\n",
      "H(p_noise): 6.3690236800680085\n"
     ]
    }
   ],
   "source": [
    "def entropy(p):\n",
    "    ans = 0\n",
    "    for i in range(len(p)):\n",
    "        if p[i] > 0:\n",
    "            ans -= p[i]*dlt * math.log2(p[i]*dlt)\n",
    "    return ans\n",
    "\n",
    "def D_KL(p,q):\n",
    "    ans = 0\n",
    "    for i in range(len(p)):\n",
    "        ans += p[i]*dlt * math.log2(p[i]/q[i])\n",
    "    return ans\n",
    "\n",
    "def cross_entropy(p,q):\n",
    "    return entropy(p) + D_KL(p,q)\n",
    "\n",
    "#     ans = 0\n",
    "#     for i in range(len(p)):\n",
    "#         ans -= p[i]*dlt * math.log2(q[i]*dlt)\n",
    "#     return ans\n",
    "\n",
    "print('H(dist1): ' + str(entropy(dist1)))\n",
    "print('H(dist2): ' + str(entropy(dist2)))\n",
    "print('H(dist1;dist1): ' + str(cross_entropy(dist1, dist1)))\n",
    "print('H(dist1;dist2): ' + str(cross_entropy(dist1, dist2)))\n",
    "print('D_KL(dist1||dist1): ' + str(D_KL(dist1, dist1)))\n",
    "print('D_KL(dist1||dist2): ' + str(D_KL(dist1, dist2)))\n",
    "\n",
    "print('H(p_noise): ' + str(entropy(p_noise)))"
   ]
  },
  {
   "cell_type": "markdown",
   "metadata": {},
   "source": [
    "# naive with noises"
   ]
  },
  {
   "cell_type": "code",
   "execution_count": 55,
   "metadata": {
    "scrolled": true
   },
   "outputs": [
    {
     "name": "stdout",
     "output_type": "stream",
     "text": [
      "0 iterations done...\n",
      "5 iterations done...\n",
      "10 iterations done...\n",
      "15 iterations done...\n",
      "20 iterations done...\n",
      "25 iterations done...\n",
      "30 iterations done...\n",
      "35 iterations done...\n",
      "40 iterations done...\n",
      "45 iterations done...\n",
      "50 iterations done...\n",
      "55 iterations done...\n",
      "60 iterations done...\n",
      "65 iterations done...\n",
      "70 iterations done...\n",
      "75 iterations done...\n",
      "80 iterations done...\n",
      "85 iterations done...\n",
      "90 iterations done...\n",
      "95 iterations done...\n",
      "100 iterations done...\n",
      "105 iterations done...\n",
      "110 iterations done...\n",
      "115 iterations done...\n",
      "120 iterations done...\n",
      "125 iterations done...\n",
      "130 iterations done...\n",
      "135 iterations done...\n",
      "140 iterations done...\n",
      "145 iterations done...\n",
      "150 iterations done...\n",
      "155 iterations done...\n",
      "160 iterations done...\n",
      "165 iterations done...\n",
      "170 iterations done...\n",
      "175 iterations done...\n",
      "180 iterations done...\n",
      "185 iterations done...\n",
      "190 iterations done...\n",
      "195 iterations done...\n",
      "200 iterations done...\n",
      "205 iterations done...\n",
      "210 iterations done...\n",
      "215 iterations done...\n",
      "220 iterations done...\n",
      "225 iterations done...\n",
      "230 iterations done...\n",
      "235 iterations done...\n",
      "240 iterations done...\n",
      "245 iterations done...\n",
      "250 iterations done...\n",
      "255 iterations done...\n",
      "260 iterations done...\n",
      "265 iterations done...\n",
      "270 iterations done...\n",
      "275 iterations done...\n",
      "280 iterations done...\n",
      "285 iterations done...\n",
      "290 iterations done...\n",
      "295 iterations done...\n",
      "300 iterations done...\n",
      "305 iterations done...\n",
      "310 iterations done...\n",
      "315 iterations done...\n",
      "320 iterations done...\n"
     ]
    },
    {
     "ename": "ZeroDivisionError",
     "evalue": "float division by zero",
     "output_type": "error",
     "traceback": [
      "\u001b[0;31m---------------------------------------------------------------------------\u001b[0m",
      "\u001b[0;31mZeroDivisionError\u001b[0m                         Traceback (most recent call last)",
      "\u001b[0;32m<ipython-input-55-71167edb3745>\u001b[0m in \u001b[0;36m<module>\u001b[0;34m()\u001b[0m\n\u001b[1;32m     17\u001b[0m \u001b[0;34m\u001b[0m\u001b[0m\n\u001b[1;32m     18\u001b[0m     \u001b[0mH1\u001b[0m \u001b[0;34m+=\u001b[0m \u001b[0;34m[\u001b[0m\u001b[0mentropy\u001b[0m\u001b[0;34m(\u001b[0m\u001b[0mp1\u001b[0m\u001b[0;34m)\u001b[0m\u001b[0;34m]\u001b[0m\u001b[0;34m\u001b[0m\u001b[0;34m\u001b[0m\u001b[0m\n\u001b[0;32m---> 19\u001b[0;31m     \u001b[0mH11\u001b[0m \u001b[0;34m+=\u001b[0m \u001b[0;34m[\u001b[0m\u001b[0mcross_entropy\u001b[0m\u001b[0;34m(\u001b[0m\u001b[0mdist1\u001b[0m\u001b[0;34m,\u001b[0m \u001b[0mp1\u001b[0m\u001b[0;34m)\u001b[0m\u001b[0;34m]\u001b[0m\u001b[0;34m\u001b[0m\u001b[0;34m\u001b[0m\u001b[0m\n\u001b[0m\u001b[1;32m     20\u001b[0m     \u001b[0mH2\u001b[0m \u001b[0;34m+=\u001b[0m \u001b[0;34m[\u001b[0m\u001b[0mentropy\u001b[0m\u001b[0;34m(\u001b[0m\u001b[0mp2\u001b[0m\u001b[0;34m)\u001b[0m\u001b[0;34m]\u001b[0m\u001b[0;34m\u001b[0m\u001b[0;34m\u001b[0m\u001b[0m\n\u001b[1;32m     21\u001b[0m     \u001b[0mH22\u001b[0m \u001b[0;34m+=\u001b[0m \u001b[0;34m[\u001b[0m\u001b[0mcross_entropy\u001b[0m\u001b[0;34m(\u001b[0m\u001b[0mdist2\u001b[0m\u001b[0;34m,\u001b[0m \u001b[0mp2\u001b[0m\u001b[0;34m)\u001b[0m\u001b[0;34m]\u001b[0m\u001b[0;34m\u001b[0m\u001b[0;34m\u001b[0m\u001b[0m\n",
      "\u001b[0;32m<ipython-input-54-4ebfc61ae1b1>\u001b[0m in \u001b[0;36mcross_entropy\u001b[0;34m(p, q)\u001b[0m\n\u001b[1;32m     13\u001b[0m \u001b[0;34m\u001b[0m\u001b[0m\n\u001b[1;32m     14\u001b[0m \u001b[0;32mdef\u001b[0m \u001b[0mcross_entropy\u001b[0m\u001b[0;34m(\u001b[0m\u001b[0mp\u001b[0m\u001b[0;34m,\u001b[0m\u001b[0mq\u001b[0m\u001b[0;34m)\u001b[0m\u001b[0;34m:\u001b[0m\u001b[0;34m\u001b[0m\u001b[0;34m\u001b[0m\u001b[0m\n\u001b[0;32m---> 15\u001b[0;31m     \u001b[0;32mreturn\u001b[0m \u001b[0mentropy\u001b[0m\u001b[0;34m(\u001b[0m\u001b[0mp\u001b[0m\u001b[0;34m)\u001b[0m \u001b[0;34m+\u001b[0m \u001b[0mD_KL\u001b[0m\u001b[0;34m(\u001b[0m\u001b[0mp\u001b[0m\u001b[0;34m,\u001b[0m\u001b[0mq\u001b[0m\u001b[0;34m)\u001b[0m\u001b[0;34m\u001b[0m\u001b[0;34m\u001b[0m\u001b[0m\n\u001b[0m\u001b[1;32m     16\u001b[0m \u001b[0;34m\u001b[0m\u001b[0m\n\u001b[1;32m     17\u001b[0m \u001b[0;31m#     ans = 0\u001b[0m\u001b[0;34m\u001b[0m\u001b[0;34m\u001b[0m\u001b[0;34m\u001b[0m\u001b[0m\n",
      "\u001b[0;32m<ipython-input-54-4ebfc61ae1b1>\u001b[0m in \u001b[0;36mD_KL\u001b[0;34m(p, q)\u001b[0m\n\u001b[1;32m      9\u001b[0m     \u001b[0mans\u001b[0m \u001b[0;34m=\u001b[0m \u001b[0;36m0\u001b[0m\u001b[0;34m\u001b[0m\u001b[0;34m\u001b[0m\u001b[0m\n\u001b[1;32m     10\u001b[0m     \u001b[0;32mfor\u001b[0m \u001b[0mi\u001b[0m \u001b[0;32min\u001b[0m \u001b[0mrange\u001b[0m\u001b[0;34m(\u001b[0m\u001b[0mlen\u001b[0m\u001b[0;34m(\u001b[0m\u001b[0mp\u001b[0m\u001b[0;34m)\u001b[0m\u001b[0;34m)\u001b[0m\u001b[0;34m:\u001b[0m\u001b[0;34m\u001b[0m\u001b[0;34m\u001b[0m\u001b[0m\n\u001b[0;32m---> 11\u001b[0;31m         \u001b[0mans\u001b[0m \u001b[0;34m+=\u001b[0m \u001b[0mp\u001b[0m\u001b[0;34m[\u001b[0m\u001b[0mi\u001b[0m\u001b[0;34m]\u001b[0m\u001b[0;34m*\u001b[0m\u001b[0mdlt\u001b[0m \u001b[0;34m*\u001b[0m \u001b[0mmath\u001b[0m\u001b[0;34m.\u001b[0m\u001b[0mlog2\u001b[0m\u001b[0;34m(\u001b[0m\u001b[0mp\u001b[0m\u001b[0;34m[\u001b[0m\u001b[0mi\u001b[0m\u001b[0;34m]\u001b[0m\u001b[0;34m/\u001b[0m\u001b[0mq\u001b[0m\u001b[0;34m[\u001b[0m\u001b[0mi\u001b[0m\u001b[0;34m]\u001b[0m\u001b[0;34m)\u001b[0m\u001b[0;34m\u001b[0m\u001b[0;34m\u001b[0m\u001b[0m\n\u001b[0m\u001b[1;32m     12\u001b[0m     \u001b[0;32mreturn\u001b[0m \u001b[0mans\u001b[0m\u001b[0;34m\u001b[0m\u001b[0;34m\u001b[0m\u001b[0m\n\u001b[1;32m     13\u001b[0m \u001b[0;34m\u001b[0m\u001b[0m\n",
      "\u001b[0;31mZeroDivisionError\u001b[0m: float division by zero"
     ]
    }
   ],
   "source": [
    "p1 = list(dist1)\n",
    "p2 = list(dist2)\n",
    "\n",
    "H1 = [entropy(p1)]\n",
    "H11 = [cross_entropy(dist1, p1)]\n",
    "H2 = [entropy(p2)]\n",
    "H22 = [cross_entropy(dist2, p2)]\n",
    "MAP1 = [np.argmax(p1)*dlt]\n",
    "MAP2 = [np.argmax(p2)*dlt]\n",
    "\n",
    "for i in range(n_interactions):\n",
    "    p1 = conv(p1, p_noise, noise_mean_indx)\n",
    "    p2 = conv(p2, p_noise, noise_mean_indx)\n",
    "    noise = random.gauss(noise_mean, noise_sigma)\n",
    "    p1 = combine(p1, p2, int((noise-noise_mean)/dlt+0.5))\n",
    "    p2 = list(p1)\n",
    "    \n",
    "    H1 += [entropy(p1)]\n",
    "    H11 += [cross_entropy(dist1, p1)]\n",
    "    H2 += [entropy(p2)]\n",
    "    H22 += [cross_entropy(dist2, p2)]\n",
    "    MAP1 += [np.argmax(p1)*dlt]\n",
    "    MAP2 += [np.argmax(p2)*dlt]\n",
    "\n",
    "    if i % 5 == 0:\n",
    "        print(str(i) + ' iterations done...')\n",
    "\n",
    "print(sum(p1)*dlt)\n",
    "print(sum(p2)*dlt)\n",
    "\n",
    "plt.scatter(x_axis, p1)\n",
    "plt.xlim(x_min, x_max)\n",
    "plt.show()\n",
    "print(\"max at \" + str(np.argmax(p1)*dlt))\n",
    "plt.scatter(x_axis, p2)\n",
    "plt.xlim(x_min, x_max)\n",
    "plt.show()\n",
    "print(\"max at \" + str(np.argmax(p2)*dlt))"
   ]
  },
  {
   "cell_type": "code",
   "execution_count": null,
   "metadata": {},
   "outputs": [],
   "source": [
    "plt.plot(H1)\n",
    "plt.ylabel('H(p1)')\n",
    "print('min(H(p1)): ' + str(min(H1)))\n",
    "plt.show()\n",
    "plt.plot(H11)\n",
    "plt.ylabel('H(dist1;p1)')\n",
    "plt.show()\n",
    "plt.plot(H2)\n",
    "plt.ylabel('H(p2)')\n",
    "plt.show()\n",
    "plt.plot(H22)\n",
    "plt.ylabel('H(dist2;p2)')\n",
    "plt.show()\n",
    "plt.plot(MAP1)\n",
    "plt.ylabel('MAP1')\n",
    "plt.show()\n",
    "plt.plot(MAP2)\n",
    "plt.ylabel('MAP2')\n",
    "plt.show()"
   ]
  },
  {
   "cell_type": "markdown",
   "metadata": {},
   "source": [
    "# Conservative with noises"
   ]
  },
  {
   "cell_type": "code",
   "execution_count": null,
   "metadata": {},
   "outputs": [],
   "source": [
    "p1 = list(dist1)\n",
    "p2 = list(dist2)\n",
    "\n",
    "H1 = [entropy(p1)]\n",
    "H11 = [cross_entropy(dist1, p1)]\n",
    "H2 = [entropy(p2)]\n",
    "H22 = [cross_entropy(dist2, p2)]\n",
    "MAP1 = [np.argmax(p1)*dlt]\n",
    "MAP2 = [np.argmax(p2)*dlt]\n",
    "\n",
    "omega = 0.9\n",
    "for i in range(n_interactions):\n",
    "    p1_omega, p1_1_omega = divide(p1, omega)\n",
    "    p2_omega, p2_1_omega = divide(p2, omega)\n",
    "\n",
    "    p1_to_pass = conv(p1_1_omega, p_noise, noise_mean_indx)\n",
    "    p2_to_pass = conv(p2_1_omega, p_noise, noise_mean_indx)\n",
    "    noise = random.gauss(noise_mean, noise_sigma)\n",
    "\n",
    "    p1 = combine(p1_omega, p2_to_pass, int((noise-noise_mean)/dlt+0.5))\n",
    "    p2 = combine(p2_omega, p1_to_pass, int((noise-noise_mean)/dlt+0.5))\n",
    "\n",
    "    H1 += [entropy(p1)]\n",
    "    H11 += [cross_entropy(dist1, p1)]\n",
    "    H2 += [entropy(p2)]\n",
    "    H22 += [cross_entropy(dist2, p2)]\n",
    "    MAP1 += [np.argmax(p1)*dlt]\n",
    "    MAP2 += [np.argmax(p2)*dlt]\n",
    "\n",
    "    if i % 5 == 0:\n",
    "        print(str(i) + ' iterations done...')\n",
    "\n",
    "print(sum(p1)*dlt)\n",
    "print(sum(p2)*dlt)\n",
    "plt.scatter(x_axis, p1)\n",
    "plt.xlim(x_min, x_max)\n",
    "plt.show()\n",
    "print(\"max at \" + str(np.argmax(p1)*dlt))\n",
    "plt.scatter(x_axis, p2)\n",
    "plt.xlim(x_min, x_max)\n",
    "plt.show()\n",
    "print(\"max at \" + str(np.argmax(p2)*dlt))"
   ]
  },
  {
   "cell_type": "code",
   "execution_count": null,
   "metadata": {},
   "outputs": [],
   "source": [
    "plt.plot(H1)\n",
    "plt.ylabel('H(p1)')\n",
    "print('min(H(p1)): ' + str(min(H1)))\n",
    "plt.show()\n",
    "plt.plot(H11)\n",
    "plt.ylabel('H(dist1;p1)')\n",
    "plt.show()\n",
    "plt.plot(H2)\n",
    "plt.ylabel('H(p2)')\n",
    "plt.show()\n",
    "plt.plot(H22)\n",
    "plt.ylabel('H(dist2;p2)')\n",
    "plt.show()\n",
    "plt.plot(MAP1)\n",
    "plt.ylabel('MAP1')\n",
    "plt.show()\n",
    "plt.plot(MAP2)\n",
    "plt.ylabel('MAP2')\n",
    "plt.show()"
   ]
  },
  {
   "cell_type": "markdown",
   "metadata": {},
   "source": [
    "# Conservative with noise (diving noise)"
   ]
  },
  {
   "cell_type": "code",
   "execution_count": null,
   "metadata": {
    "scrolled": true
   },
   "outputs": [],
   "source": [
    "p1 = list(dist1)\n",
    "p2 = list(dist2)\n",
    "H1 = [entropy(p1)]\n",
    "H11 = [cross_entropy(dist1, p1)]\n",
    "H2 = [entropy(p2)]\n",
    "H22 = [cross_entropy(dist2, p2)]\n",
    "MAP1 = [np.argmax(p1)*dlt]\n",
    "MAP2 = [np.argmax(p2)*dlt]\n",
    "\n",
    "omega = 0.9\n",
    "for i in range(n_interactions):\n",
    "    p1_omega, p1_1_omega = divide(p1, omega)\n",
    "    p2_omega, p2_1_omega = divide(p2, omega)\n",
    "    \n",
    "    p_noise_div, p_noise_div2 = divide(p_noise, 1 - omega)\n",
    "    p1_to_pass = conv(p1_1_omega, p_noise_div, noise_mean_indx)\n",
    "    p2_to_pass = conv(p2_1_omega, p_noise_div, noise_mean_indx)\n",
    "#     p1_to_pass = conv(p1, p_noise, noise_mean_indx)\n",
    "#     p1_to_discard, p1_to_pass = divide(p1_to_pass, omega)\n",
    "#     p2_to_pass = conv(p2, p_noise, noise_mean_indx)\n",
    "#     p2_to_discard, p2_to_pass = divide(p2_to_pass, omega)\n",
    "    noise = random.gauss(noise_mean, noise_sigma)\n",
    "\n",
    "    p1 = combine(p1_omega, p2_to_pass, int((noise-noise_mean)/dlt+0.5))\n",
    "    p2 = combine(p2_omega, p1_to_pass, int((noise-noise_mean)/dlt+0.5))\n",
    "\n",
    "    H1 += [entropy(p1)]\n",
    "    H11 += [cross_entropy(dist1, p1)]\n",
    "    H2 += [entropy(p2)]\n",
    "    H22 += [cross_entropy(dist2, p2)]\n",
    "    MAP1 += [np.argmax(p1)*dlt]\n",
    "    MAP2 += [np.argmax(p2)*dlt]\n",
    "\n",
    "    if i % 5 == 0:\n",
    "        print(str(i) + ' iterations done...')\n",
    "\n",
    "print(sum(p1)*dlt)\n",
    "print(sum(p2)*dlt)\n",
    "plt.scatter(x_axis, p1)\n",
    "plt.xlim(x_min, x_max)\n",
    "plt.show()\n",
    "print(\"max at \" + str(np.argmax(p1)*dlt))\n",
    "plt.scatter(x_axis, p2)\n",
    "plt.xlim(x_min, x_max)\n",
    "plt.show()\n",
    "print(\"max at \" + str(np.argmax(p2)*dlt))"
   ]
  },
  {
   "cell_type": "code",
   "execution_count": null,
   "metadata": {},
   "outputs": [],
   "source": [
    "plt.plot(H1)\n",
    "plt.ylabel('H(p1)')\n",
    "print('min(H(p1)): ' + str(min(H1)))\n",
    "plt.show()\n",
    "plt.plot(H11)\n",
    "plt.ylabel('H(dist1;p1)')\n",
    "plt.show()\n",
    "plt.plot(H2)\n",
    "plt.ylabel('H(p2)')\n",
    "plt.show()\n",
    "plt.plot(H22)\n",
    "plt.ylabel('H(dist2;p2)')\n",
    "plt.show()\n",
    "plt.plot(MAP1)\n",
    "plt.ylabel('MAP1')\n",
    "plt.show()\n",
    "plt.plot(MAP2)\n",
    "plt.ylabel('MAP2')\n",
    "plt.show()"
   ]
  },
  {
   "cell_type": "markdown",
   "metadata": {},
   "source": [
    "# Conservative with noise (but noise is ignored for est)"
   ]
  },
  {
   "cell_type": "code",
   "execution_count": null,
   "metadata": {
    "scrolled": true
   },
   "outputs": [],
   "source": [
    "p1 = list(dist1)\n",
    "p2 = list(dist2)\n",
    "H1 = [entropy(p1)]\n",
    "H11 = [cross_entropy(dist1, p1)]\n",
    "H2 = [entropy(p2)]\n",
    "H22 = [cross_entropy(dist2, p2)]\n",
    "MAP1 = [np.argmax(p1)*dlt]\n",
    "MAP2 = [np.argmax(p2)*dlt]\n",
    "\n",
    "omega = 0.9\n",
    "for i in range(n_interactions):\n",
    "    p1_omega, p1_1_omega = divide(p1, omega)\n",
    "    p2_omega, p2_1_omega = divide(p2, omega)\n",
    "    \n",
    "    \n",
    "    p1_to_pass = p1_1_omega #conv(p1_1_omega, p_noise2, noise_mean_indx)\n",
    "    p2_to_pass = p2_1_omega #conv(p2_1_omega, p_noise2, noise_mean_indx)\n",
    "    noise = random.gauss(noise_mean, noise_sigma)\n",
    "\n",
    "    p1 = combine(p1_omega, p2_to_pass, int((noise-noise_mean)/dlt+0.5))\n",
    "    p2 = combine(p2_omega, p1_to_pass, int((noise-noise_mean)/dlt+0.5))\n",
    "\n",
    "    H1 += [entropy(p1)]\n",
    "    H11 += [cross_entropy(dist1, p1)]\n",
    "    H2 += [entropy(p2)]\n",
    "    H22 += [cross_entropy(dist2, p2)]\n",
    "    MAP1 += [np.argmax(p1)*dlt]\n",
    "    MAP2 += [np.argmax(p2)*dlt]\n",
    "\n",
    "    if i % 5 == 0:\n",
    "        print(str(i) + ' iterations done...')\n",
    "\n",
    "print(sum(p1)*dlt)\n",
    "print(sum(p2)*dlt)\n",
    "plt.scatter(x_axis, p1)\n",
    "plt.xlim(x_min, x_max)\n",
    "plt.show()\n",
    "print(\"max at \" + str(np.argmax(p1)*dlt))\n",
    "plt.scatter(x_axis, p2)\n",
    "plt.xlim(x_min, x_max)\n",
    "plt.show()\n",
    "print(\"max at \" + str(np.argmax(p2)*dlt))"
   ]
  },
  {
   "cell_type": "code",
   "execution_count": null,
   "metadata": {},
   "outputs": [],
   "source": [
    "plt.plot(H1)\n",
    "plt.ylabel('H(p1)')\n",
    "print('min(H(p1)): ' + str(min(H1)))\n",
    "plt.show()\n",
    "plt.plot(H11)\n",
    "plt.ylabel('H(dist1;p1)')\n",
    "plt.show()\n",
    "plt.plot(H2)\n",
    "plt.ylabel('H(p2)')\n",
    "plt.show()\n",
    "plt.plot(H22)\n",
    "plt.ylabel('H(dist2;p2)')\n",
    "plt.show()\n",
    "plt.plot(MAP1)\n",
    "plt.ylabel('MAP1')\n",
    "plt.show()\n",
    "plt.plot(MAP2)\n",
    "plt.ylabel('MAP2')\n",
    "plt.show()"
   ]
  }
 ],
 "metadata": {
  "kernelspec": {
   "display_name": "Python 3",
   "language": "python",
   "name": "python3"
  },
  "language_info": {
   "codemirror_mode": {
    "name": "ipython",
    "version": 3
   },
   "file_extension": ".py",
   "mimetype": "text/x-python",
   "name": "python",
   "nbconvert_exporter": "python",
   "pygments_lexer": "ipython3",
   "version": "3.6.9"
  }
 },
 "nbformat": 4,
 "nbformat_minor": 2
}
