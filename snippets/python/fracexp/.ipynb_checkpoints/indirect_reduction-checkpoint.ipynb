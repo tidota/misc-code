{
 "cells": [
  {
   "cell_type": "markdown",
   "metadata": {},
   "source": [
    "# Indirect reduction of confidence\n",
    "Instead of directly educing the confidence in a probability distribution, this experiment attempts to indrectly reduce it in the process of mixing information from two probability distributions."
   ]
  },
  {
   "cell_type": "code",
   "execution_count": 1,
   "metadata": {},
   "outputs": [],
   "source": [
    "import random\n",
    "import math\n",
    "import matplotlib.pyplot as plt\n",
    "import statistics"
   ]
  },
  {
   "cell_type": "markdown",
   "metadata": {},
   "source": [
    "# Create two populations\n"
   ]
  },
  {
   "cell_type": "code",
   "execution_count": 2,
   "metadata": {},
   "outputs": [],
   "source": [
    "rng = [0, 100]\n",
    "dlt = 0.05\n",
    "n_samples = 300\n",
    "samples1 = []\n",
    "mean1 = (rng[1]-rng[0])*0.3\n",
    "sigma1 = 3\n",
    "samples2 = []\n",
    "mean2 = (rng[1]-rng[0])*0.7\n",
    "sigma2 = 5\n",
    "for i in range(n_samples):\n",
    "    samples1.append(random.gauss(mean1, sigma1))\n",
    "    samples2.append(random.gauss(mean2, sigma2))"
   ]
  },
  {
   "cell_type": "markdown",
   "metadata": {},
   "source": [
    "# Estimate the probability distributions"
   ]
  },
  {
   "cell_type": "code",
   "execution_count": 3,
   "metadata": {
    "scrolled": true
   },
   "outputs": [
    {
     "data": {
      "image/png": "[encoded data removed]",
      "text/plain": [
       "<matplotlib.figure.Figure at 0x7fc428e6a748>"
      ]
     },
     "metadata": {},
     "output_type": "display_data"
    },
    {
     "name": "stdout",
     "output_type": "stream",
     "text": [
      "sum: 0.9999999999999984\n"
     ]
    },
    {
     "data": {
      "image/png": "[encoded data removed]",
      "text/plain": [
       "<matplotlib.figure.Figure at 0x7fc426dce518>"
      ]
     },
     "metadata": {},
     "output_type": "display_data"
    },
    {
     "name": "stdout",
     "output_type": "stream",
     "text": [
      "sum: 0.9999999999999999\n"
     ]
    }
   ],
   "source": [
    "# determining sigma for estimation\n",
    "sigma_opt = lambda s: statistics.variance(s) * math.pow(4.0/3.0/len(s), 1.0/5.0)\n",
    "sigma_opt = lambda s: 20\n",
    "\n",
    "k = lambda x1, x2, sigma=20: math.exp(-(x1 - x2)**2/sigma/sigma)\n",
    "N = int((rng[1]-rng[0])/dlt+1)\n",
    "x_axis = [rng[0] + i * dlt for i in range(N)]\n",
    "def estPDF(samples):\n",
    "    x = rng[0]\n",
    "    p = [0] * N\n",
    "    sigma = sigma_opt(samples)\n",
    "    for i in range(N):\n",
    "        x = rng[0] + i * dlt\n",
    "        for s in samples:\n",
    "            p[i] += k(x, s, sigma)\n",
    "    sum_p = sum(p) * dlt\n",
    "    for i in range(len(p)):\n",
    "        p[i] /= sum_p\n",
    "    return p\n",
    "def showPDF(p, title, ylim=None):\n",
    "    plt.scatter(x_axis, p)\n",
    "    plt.ylabel(title)\n",
    "    if ylim != None:\n",
    "        plt.ylim(0, ylim)\n",
    "    plt.show()\n",
    "    print('sum: ' + str(sum(p)*dlt))\n",
    "p1 = estPDF(samples1)\n",
    "showPDF(p1, 'p1', 0.1)\n",
    "p2 = estPDF(samples2)\n",
    "showPDF(p2, 'p2', 0.1)"
   ]
  },
  {
   "cell_type": "markdown",
   "metadata": {},
   "source": [
    "# Create the mixture of samples based on $\\omega$"
   ]
  },
  {
   "cell_type": "markdown",
   "metadata": {},
   "source": [
    "Resample particles from the two populations"
   ]
  },
  {
   "cell_type": "code",
   "execution_count": 4,
   "metadata": {},
   "outputs": [
    {
     "name": "stdout",
     "output_type": "stream",
     "text": [
      "n2switch: 150\n",
      "adjusted omega: 0.5\n"
     ]
    }
   ],
   "source": [
    "omega = 0.5\n",
    "n2switch = int(n_samples * omega)\n",
    "print('n2switch: ' + str(n2switch))\n",
    "omega = n2switch / n_samples\n",
    "print('adjusted omega: ' + str(omega))\n",
    "samples_mix = samples1[n2switch:] + samples2[:n2switch]\n",
    "random.shuffle(samples_mix)"
   ]
  },
  {
   "cell_type": "markdown",
   "metadata": {},
   "source": [
    "Estimate the mixed distribution"
   ]
  },
  {
   "cell_type": "code",
   "execution_count": 5,
   "metadata": {},
   "outputs": [
    {
     "data": {
      "image/png": "[encoded data removed]",
      "text/plain": [
       "<matplotlib.figure.Figure at 0x7fc428e5e470>"
      ]
     },
     "metadata": {},
     "output_type": "display_data"
    },
    {
     "name": "stdout",
     "output_type": "stream",
     "text": [
      "sum: 0.9999999999999997\n"
     ]
    }
   ],
   "source": [
    "p_mix = estPDF(samples_mix)\n",
    "showPDF(p_mix, 'p_mix', 0.1)"
   ]
  },
  {
   "cell_type": "markdown",
   "metadata": {},
   "source": [
    "# Covariance Intersection of $p_1$ and $p_2$"
   ]
  },
  {
   "cell_type": "code",
   "execution_count": 6,
   "metadata": {},
   "outputs": [
    {
     "data": {
      "image/png": "[encoded data removed]",
      "text/plain": [
       "<matplotlib.figure.Figure at 0x7fc426d0a240>"
      ]
     },
     "metadata": {},
     "output_type": "display_data"
    },
    {
     "name": "stdout",
     "output_type": "stream",
     "text": [
      "sum: 1.0000000000000002\n"
     ]
    }
   ],
   "source": [
    "p_ci = [0] * len(p1)\n",
    "for i in range(len(p_ci)):\n",
    "    p_ci[i] = math.pow(p1[i], 1 - omega) * math.pow(p2[i], omega)\n",
    "p_ci_sum = sum(p_ci) * dlt\n",
    "for i in range(len(p_ci)):\n",
    "    p_ci[i] /= p_ci_sum\n",
    "showPDF(p_ci, 'p_ci', 0.1)"
   ]
  },
  {
   "cell_type": "markdown",
   "metadata": {},
   "source": [
    "---\n",
    "# Product of $p_1$ and $p_2$?"
   ]
  },
  {
   "cell_type": "markdown",
   "metadata": {},
   "source": [
    "Calculate weights of particles in $p_1$ based on $p_2$"
   ]
  },
  {
   "cell_type": "code",
   "execution_count": 7,
   "metadata": {},
   "outputs": [
    {
     "data": {
      "image/png": "[encoded data removed]",
      "text/plain": [
       "<matplotlib.figure.Figure at 0x7fc450f8de48>"
      ]
     },
     "metadata": {},
     "output_type": "display_data"
    }
   ],
   "source": [
    "weights = [0] * n_samples\n",
    "sigma = sigma_opt(samples2)\n",
    "for i in range(n_samples):\n",
    "    for j in range(n_samples):\n",
    "        weights[i] = k(samples1[i], samples2[j], sigma)\n",
    "weight_sum = sum(weights)\n",
    "plt.scatter(samples1, weights)\n",
    "plt.ylabel('weights')\n",
    "plt.ylim(0, 1)\n",
    "plt.xlim(rng[0], rng[1])\n",
    "plt.show()"
   ]
  },
  {
   "cell_type": "markdown",
   "metadata": {},
   "source": [
    "Resampling by the weights"
   ]
  },
  {
   "cell_type": "code",
   "execution_count": 8,
   "metadata": {},
   "outputs": [],
   "source": [
    "samples_prod = [0] * n_samples\n",
    "for i in range(n_samples):\n",
    "    r = random.uniform(0.0, weight_sum)\n",
    "    temp = 0\n",
    "    for j in range(n_samples):\n",
    "        temp += weights[j]\n",
    "        if r <= temp or j == n_samples - 1:\n",
    "            samples_prod[i] = samples1[j]\n",
    "            break"
   ]
  },
  {
   "cell_type": "markdown",
   "metadata": {},
   "source": [
    "estimate the distribution"
   ]
  },
  {
   "cell_type": "code",
   "execution_count": 9,
   "metadata": {},
   "outputs": [
    {
     "data": {
      "image/png": "[encoded data removed]",
      "text/plain": [
       "<matplotlib.figure.Figure at 0x7fc426cb0b70>"
      ]
     },
     "metadata": {},
     "output_type": "display_data"
    },
    {
     "name": "stdout",
     "output_type": "stream",
     "text": [
      "sum: 1.000000000000002\n"
     ]
    }
   ],
   "source": [
    "p_prod = estPDF(samples_prod)\n",
    "showPDF(p_prod, 'p_prod', 0.1)"
   ]
  },
  {
   "cell_type": "markdown",
   "metadata": {},
   "source": [
    "# Naive way of product"
   ]
  },
  {
   "cell_type": "code",
   "execution_count": 10,
   "metadata": {},
   "outputs": [
    {
     "data": {
      "image/png": "[encoded data removed]",
      "text/plain": [
       "<matplotlib.figure.Figure at 0x7fc426c24d30>"
      ]
     },
     "metadata": {},
     "output_type": "display_data"
    },
    {
     "name": "stdout",
     "output_type": "stream",
     "text": [
      "sum: 1.0000000000000007\n"
     ]
    }
   ],
   "source": [
    "p_naive = [0] * len(p1)\n",
    "for i in range(len(p_naive)):\n",
    "    p_naive[i] = p1[i] * p2[i]\n",
    "p_naive_sum = sum(p_naive) * dlt\n",
    "for i in range(len(p_naive)):\n",
    "    p_naive[i] /= p_naive_sum\n",
    "showPDF(p_naive, 'p_naive', 0.1)"
   ]
  },
  {
   "cell_type": "markdown",
   "metadata": {},
   "source": [
    "# weighted average: $(1-\\omega)p_1 + \\omega p_2$\n",
    "Is the method equivalent to weighted average???\n"
   ]
  },
  {
   "cell_type": "code",
   "execution_count": 11,
   "metadata": {},
   "outputs": [
    {
     "data": {
      "image/png": "[encoded data removed]",
      "text/plain": [
       "<matplotlib.figure.Figure at 0x7fc426be6160>"
      ]
     },
     "metadata": {},
     "output_type": "display_data"
    },
    {
     "name": "stdout",
     "output_type": "stream",
     "text": [
      "sum: 1.0\n"
     ]
    }
   ],
   "source": [
    "p_wa = [0] * len(p1)\n",
    "for i in range(len(p_wa)):\n",
    "    p_wa[i] = (1-omega)*p1[i] + omega*p2[i]\n",
    "\n",
    "sum_p_wa = sum(p_wa) * dlt\n",
    "for i in range(len(p_wa)):\n",
    "    p_wa[i] /= sum_p_wa\n",
    "showPDF(p_wa, 'p_wa', 0.1)"
   ]
  }
 ],
 "metadata": {
  "kernelspec": {
   "display_name": "Python 3",
   "language": "python",
   "name": "python3"
  },
  "language_info": {
   "codemirror_mode": {
    "name": "ipython",
    "version": 3
   },
   "file_extension": ".py",
   "mimetype": "text/x-python",
   "name": "python",
   "nbconvert_exporter": "python",
   "pygments_lexer": "ipython3",
   "version": "3.6.9"
  }
 },
 "nbformat": 4,
 "nbformat_minor": 2
}
