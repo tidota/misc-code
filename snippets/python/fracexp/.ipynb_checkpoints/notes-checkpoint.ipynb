{
 "cells": [
  {
   "cell_type": "markdown",
   "metadata": {},
   "source": [
    "# Experiment of fractional exponent to particle filter\n",
    "\n",
    "1. generate some samples\n",
    "1. estimate the distribution (discrete)\n",
    "1. generate reduced distributions by different processes\n",
    "    1. proc1\n",
    "        1. directly apply the fractional exponent to the estimated dist with normalization\n",
    "    1. proc2\n",
    "        1. calculate weights (proposed method!)\n",
    "        1. resampling\n",
    "        1. estimate the distribution based on the resampled ones\n",
    "1. compare the two distributions\n"
   ]
  },
  {
   "cell_type": "markdown",
   "metadata": {},
   "source": [
    "# generate some samples"
   ]
  },
  {
   "cell_type": "markdown",
   "metadata": {},
   "source": [
    "# estimate the distribution (discrete)"
   ]
  },
  {
   "cell_type": "markdown",
   "metadata": {},
   "source": [
    "# generate reduced distributions by different processes"
   ]
  },
  {
   "cell_type": "markdown",
   "metadata": {},
   "source": [
    "# proc1\n",
    "1. directly apply the fractional exponent to the estimated dist with normalization"
   ]
  },
  {
   "cell_type": "markdown",
   "metadata": {},
   "source": [
    "# proc2\n",
    "1. calculate weights (proposed method!)\n",
    "1. resampling\n",
    "1. estimate the distribution based on the resampled ones"
   ]
  },
  {
   "cell_type": "markdown",
   "metadata": {},
   "source": [
    "# compare the two distributions"
   ]
  }
 ],
 "metadata": {
  "kernelspec": {
   "display_name": "Python 3",
   "language": "python",
   "name": "python3"
  },
  "language_info": {
   "codemirror_mode": {
    "name": "ipython",
    "version": 3
   },
   "file_extension": ".py",
   "mimetype": "text/x-python",
   "name": "python",
   "nbconvert_exporter": "python",
   "pygments_lexer": "ipython3",
   "version": "3.6.9"
  }
 },
 "nbformat": 4,
 "nbformat_minor": 2
}
