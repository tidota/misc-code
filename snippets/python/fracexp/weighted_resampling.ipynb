{
 "cells": [
  {
   "cell_type": "markdown",
   "metadata": {},
   "source": [
    "# Weighted resampling for data exchange\n",
    "\n",
    "1. generate two populations of some samples: sample1 and sample2\n",
    "1. calculate weights for them based on omega and (1-omega)\n",
    "1. exchange!\n",
    "    1. calculate weights for resampling by the original weights\n",
    "    1. resampling!\n",
    "1. estimate the distribution (discrete)\n",
    "1. compare the two distributions?\n"
   ]
  },
  {
   "cell_type": "code",
   "execution_count": null,
   "metadata": {},
   "outputs": [],
   "source": [
    "import random\n",
    "import math\n",
    "import matplotlib.pyplot as plt\n",
    "import statistics"
   ]
  },
  {
   "cell_type": "code",
   "execution_count": null,
   "metadata": {},
   "outputs": [],
   "source": [
    "f_optimize_sigma = False\n",
    "sigma_def = 10"
   ]
  },
  {
   "cell_type": "markdown",
   "metadata": {},
   "source": [
    "# generate two populations of some samples: sample1 and sample2"
   ]
  },
  {
   "cell_type": "code",
   "execution_count": null,
   "metadata": {},
   "outputs": [],
   "source": [
    "rng = [0, 100]\n",
    "dlt = 0.05\n",
    "n_samples = 300\n",
    "def genSamples(center):\n",
    "    samples = []\n",
    "    for i in range(n_samples):\n",
    "        #samples.append(random.uniform(rng[0] + (rng[1]-rng[0])*0.1, rng[1] - (rng[1]-rng[0])*0.1))\n",
    "        if i % 5 == 0:\n",
    "            samples.append(rng[0] + (rng[1]-rng[0])*center)\n",
    "        else:\n",
    "            samples.append(random.uniform(rng[0], rng[1]))\n",
    "        #samples.append(random.uniform(rng[0], rng[1]))\n",
    "        #samples.append(random.gauss((rng[0]+rng[1])/2.0, (rng[1]-rng[0])/2.0 * 0.1))\n",
    "    return samples\n",
    "samples1 = genSamples(0.4)\n",
    "samples2 = genSamples(0.6)\n",
    "print(\"sample1:\")\n",
    "print(\"max: \" + str(max(samples1)))\n",
    "print(\"min: \" + str(min(samples1)))\n",
    "print(\"sample2:\")\n",
    "print(\"max: \" + str(max(samples2)))\n",
    "print(\"min: \" + str(min(samples2)))"
   ]
  },
  {
   "cell_type": "markdown",
   "metadata": {},
   "source": [
    "# estimate the distributions (discrete)"
   ]
  },
  {
   "cell_type": "code",
   "execution_count": null,
   "metadata": {},
   "outputs": [],
   "source": [
    "sigma_opt = lambda s: statistics.variance(s) * math.pow(4.0/3.0/len(s), 1.0/5.0)\n",
    "k = lambda x1, x2, sigma=sigma_def: math.exp(-(x1 - x2)**2/sigma/sigma)\n",
    "x = rng[0]\n",
    "N = int((rng[1]-rng[0])/dlt+1)\n",
    "x_axis = [rng[0] + i * dlt for i in range(N)]\n",
    "\n",
    "def estPDF(samples):\n",
    "    x = rng[0]\n",
    "    p = [0] * N\n",
    "    sigma = sigma_opt(samples) if f_optimize_sigma else sigma_def\n",
    "    for i in range(N):\n",
    "        x = rng[0] + i * dlt\n",
    "        for s in samples:\n",
    "            p[i] += k(x, s, sigma)\n",
    "    sum_p = sum(p) * dlt\n",
    "    for i in range(len(p)):\n",
    "        p[i] /= sum_p\n",
    "    return p\n",
    "def showPDF(p, title, ylim=None):\n",
    "    plt.scatter(x_axis, p)\n",
    "    plt.ylabel(title)\n",
    "    if ylim != None:\n",
    "        plt.ylim(0, ylim)\n",
    "    plt.show()\n",
    "    print('sum: ' + str(sum(p)*dlt))"
   ]
  },
  {
   "cell_type": "code",
   "execution_count": null,
   "metadata": {},
   "outputs": [],
   "source": [
    "p1 = estPDF(samples1)\n",
    "p2 = estPDF(samples2)"
   ]
  },
  {
   "cell_type": "code",
   "execution_count": null,
   "metadata": {},
   "outputs": [],
   "source": [
    "showPDF(p1, 'estimated distribution 1', 0.05)\n",
    "showPDF(p2, 'estimated distribution 2', 0.05)"
   ]
  },
  {
   "cell_type": "markdown",
   "metadata": {},
   "source": [
    "# calculate weights for them based on omega and (1-omega)"
   ]
  },
  {
   "cell_type": "code",
   "execution_count": null,
   "metadata": {},
   "outputs": [],
   "source": [
    "omega = 0.5\n",
    "def genWeights(samples, omg):\n",
    "    weights = [0] * n_samples\n",
    "    sigma = sigma_opt(samples) if f_optimize_sigma else sigma_def\n",
    "    for i in range(n_samples):\n",
    "        for j in range(n_samples):\n",
    "            weights[i] += k(samples[i], samples[j], sigma)\n",
    "        weights[i] = math.pow(weights[i], omg - 1)\n",
    "    return weights\n",
    "w1 = genWeights(samples1, 1 - omega) # 1 - omega\n",
    "w1c = genWeights(samples1, omega) # omega\n",
    "w2 = genWeights(samples2, 1 - omega) # 1 - omega\n",
    "w2c = genWeights(samples2, omega) # omega\n",
    "def showW(samples, weights, title, ylim = None):\n",
    "    sum_weight = sum(weights)\n",
    "    w = list(weights)\n",
    "    for i in range(n_samples):\n",
    "        w[i] /= sum_weight\n",
    "    plt.scatter(samples, w)\n",
    "    plt.ylabel(title)\n",
    "    if not ylim == None:\n",
    "        plt.ylim(0, ylim)\n",
    "    plt.xlim(rng[0], rng[1])\n",
    "    plt.show()\n",
    "showW(samples1, w1, 'normalized weights of p1 by $1 - \\omega$: ' + str(1 - omega), 0.01)\n",
    "showW(samples1, w1c, 'normalized weights of p1 by \\omega$: ' + str(omega), 0.01)\n",
    "showW(samples2, w2, 'normalized weights of p2 by $1 - \\omega$: ' + str(1 - omega), 0.01)\n",
    "showW(samples2, w2c, 'normalized weights of p2 by $\\omega$: ' + str(omega), 0.01)"
   ]
  },
  {
   "cell_type": "markdown",
   "metadata": {},
   "source": [
    "# exchange!\n",
    "1. calculate weights for resampling by the original weights\n",
    "1. resampling!"
   ]
  },
  {
   "cell_type": "code",
   "execution_count": null,
   "metadata": {},
   "outputs": [],
   "source": [
    "def genWresump(samplesA, samplesB, wA, wBc):\n",
    "    w_resump = [0] * len(samplesA)\n",
    "    for i in range(len(samplesA)):\n",
    "        for j in range(len(samplesB)):\n",
    "            w_resump[i] += k(samplesA[i], samplesB[j]) * wBc[j]\n",
    "        w_resump[i] *= wA[i]\n",
    "    return w_resump\n",
    "w1_resump = genWresump(samples1, samples2, w1, w2c)\n",
    "w2_resump = genWresump(samples2, samples1, w2, w1c)\n",
    "showW(samples1, w1_resump, 'normalized resumping weights of p1', 0.01)\n",
    "showW(samples2, w2_resump, 'normalized resumping weights of p2', 0.01)"
   ]
  },
  {
   "cell_type": "code",
   "execution_count": null,
   "metadata": {},
   "outputs": [],
   "source": [
    "def resumple(samples, weights):\n",
    "    next_samples = [0] * n_samples\n",
    "    sum_weight = sum(weights)\n",
    "    print('sum of weights: ' + str(sum_weight))\n",
    "    for i in range(n_samples):\n",
    "        r = random.uniform(0.0, sum_weight)\n",
    "        temp = 0\n",
    "        for j in range(n_samples):\n",
    "            temp += weights[j]\n",
    "            if r <= temp or j == n_samples - 1:\n",
    "                next_samples[i] = samples[j]\n",
    "                break\n",
    "    return next_samples\n",
    "new_samples1 = resumple(samples1, w1_resump)\n",
    "new_samples2 = resumple(samples2, w2_resump)"
   ]
  },
  {
   "cell_type": "markdown",
   "metadata": {},
   "source": [
    "# estimate the distribution (discrete)"
   ]
  },
  {
   "cell_type": "code",
   "execution_count": null,
   "metadata": {},
   "outputs": [],
   "source": [
    "new_p1 = estPDF(new_samples1)\n",
    "new_p2 = estPDF(new_samples2)\n",
    "showPDF(new_p1, 'new estimated distribution 1', 0.05)\n",
    "showPDF(new_p2, 'new estimated distribution 2', 0.05)"
   ]
  },
  {
   "cell_type": "markdown",
   "metadata": {},
   "source": [
    "# compare the two distributions?\n",
    "1. create two distributions based on p1 and p2\n",
    "1. then?"
   ]
  },
  {
   "cell_type": "markdown",
   "metadata": {},
   "source": [
    "---\n",
    "# what if $omega = 0$?\n"
   ]
  }
 ],
 "metadata": {
  "kernelspec": {
   "display_name": "Python 3",
   "language": "python",
   "name": "python3"
  },
  "language_info": {
   "codemirror_mode": {
    "name": "ipython",
    "version": 3
   },
   "file_extension": ".py",
   "mimetype": "text/x-python",
   "name": "python",
   "nbconvert_exporter": "python",
   "pygments_lexer": "ipython3",
   "version": "3.6.9"
  }
 },
 "nbformat": 4,
 "nbformat_minor": 2
}
